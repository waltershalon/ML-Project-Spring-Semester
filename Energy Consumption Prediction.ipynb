{
 "cells": [
  {
   "cell_type": "code",
   "execution_count": 1,
   "id": "8f360e97",
   "metadata": {},
   "outputs": [],
   "source": [
    "import pandas as pd\n",
    "import numpy as np\n",
    "import datetime\n",
    "import gc\n",
    "from sklearn.preprocessing import LabelEncoder\n",
    "import matplotlib.pyplot as plt\n",
    "from sklearn.linear_model import LinearRegression\n",
    "from sklearn.ensemble import RandomForestClassifier\n",
    "from sklearn.model_selection import train_test_split\n",
    "from sklearn.metrics import mean_squared_error\n",
    "from sklearn.metrics import mean_squared_log_error\n",
    "from sklearn.metrics import mean_absolute_error\n",
    "from sklearn.metrics import r2_score\n",
    "import tensorflow as tf\n",
    "from tensorflow.keras.models import Sequential\n",
    "from tensorflow.keras.layers import LSTM, Dense\n",
    "import seaborn as sns\n",
    "from sklearn.model_selection import KFold\n",
    "import lightgbm as lgb\n",
    "\n"
   ]
  },
  {
   "cell_type": "code",
   "execution_count": 2,
   "id": "16dca753",
   "metadata": {},
   "outputs": [],
   "source": [
    "building = pd.read_feather(\"building_metadata.feather\")\n",
    "train = pd.read_feather('train_new_2.feather')\n",
    "weather = pd.read_feather(\"weather_train.feather\")"
   ]
  },
  {
   "cell_type": "code",
   "execution_count": 3,
   "id": "756a8905",
   "metadata": {},
   "outputs": [
    {
     "data": {
      "text/html": [
       "<div>\n",
       "<style scoped>\n",
       "    .dataframe tbody tr th:only-of-type {\n",
       "        vertical-align: middle;\n",
       "    }\n",
       "\n",
       "    .dataframe tbody tr th {\n",
       "        vertical-align: top;\n",
       "    }\n",
       "\n",
       "    .dataframe thead th {\n",
       "        text-align: right;\n",
       "    }\n",
       "</style>\n",
       "<table border=\"1\" class=\"dataframe\">\n",
       "  <thead>\n",
       "    <tr style=\"text-align: right;\">\n",
       "      <th></th>\n",
       "      <th>building_id</th>\n",
       "      <th>meter</th>\n",
       "      <th>timestamp</th>\n",
       "      <th>meter_reading</th>\n",
       "    </tr>\n",
       "  </thead>\n",
       "  <tbody>\n",
       "    <tr>\n",
       "      <th>0</th>\n",
       "      <td>105</td>\n",
       "      <td>0</td>\n",
       "      <td>2016-01-01 00:00:00</td>\n",
       "      <td>23.3036</td>\n",
       "    </tr>\n",
       "    <tr>\n",
       "      <th>1</th>\n",
       "      <td>106</td>\n",
       "      <td>3</td>\n",
       "      <td>2016-01-01 00:00:00</td>\n",
       "      <td>0.0000</td>\n",
       "    </tr>\n",
       "    <tr>\n",
       "      <th>2</th>\n",
       "      <td>108</td>\n",
       "      <td>0</td>\n",
       "      <td>2016-01-01 00:00:00</td>\n",
       "      <td>91.2653</td>\n",
       "    </tr>\n",
       "    <tr>\n",
       "      <th>3</th>\n",
       "      <td>109</td>\n",
       "      <td>0</td>\n",
       "      <td>2016-01-01 00:00:00</td>\n",
       "      <td>80.9300</td>\n",
       "    </tr>\n",
       "    <tr>\n",
       "      <th>4</th>\n",
       "      <td>109</td>\n",
       "      <td>3</td>\n",
       "      <td>2016-01-01 00:00:00</td>\n",
       "      <td>0.0000</td>\n",
       "    </tr>\n",
       "  </tbody>\n",
       "</table>\n",
       "</div>"
      ],
      "text/plain": [
       "   building_id  meter            timestamp  meter_reading\n",
       "0          105      0  2016-01-01 00:00:00        23.3036\n",
       "1          106      3  2016-01-01 00:00:00         0.0000\n",
       "2          108      0  2016-01-01 00:00:00        91.2653\n",
       "3          109      0  2016-01-01 00:00:00        80.9300\n",
       "4          109      3  2016-01-01 00:00:00         0.0000"
      ]
     },
     "execution_count": 3,
     "metadata": {},
     "output_type": "execute_result"
    }
   ],
   "source": [
    "train.head()\n"
   ]
  },
  {
   "cell_type": "code",
   "execution_count": 4,
   "id": "8a0a7230",
   "metadata": {},
   "outputs": [
    {
     "data": {
      "text/html": [
       "<div>\n",
       "<style scoped>\n",
       "    .dataframe tbody tr th:only-of-type {\n",
       "        vertical-align: middle;\n",
       "    }\n",
       "\n",
       "    .dataframe tbody tr th {\n",
       "        vertical-align: top;\n",
       "    }\n",
       "\n",
       "    .dataframe thead th {\n",
       "        text-align: right;\n",
       "    }\n",
       "</style>\n",
       "<table border=\"1\" class=\"dataframe\">\n",
       "  <thead>\n",
       "    <tr style=\"text-align: right;\">\n",
       "      <th></th>\n",
       "      <th>site_id</th>\n",
       "      <th>building_id</th>\n",
       "      <th>primary_use</th>\n",
       "      <th>square_feet</th>\n",
       "      <th>year_built</th>\n",
       "      <th>floor_count</th>\n",
       "    </tr>\n",
       "  </thead>\n",
       "  <tbody>\n",
       "    <tr>\n",
       "      <th>0</th>\n",
       "      <td>0</td>\n",
       "      <td>0</td>\n",
       "      <td>Education</td>\n",
       "      <td>7432</td>\n",
       "      <td>2008.0</td>\n",
       "      <td>NaN</td>\n",
       "    </tr>\n",
       "    <tr>\n",
       "      <th>1</th>\n",
       "      <td>0</td>\n",
       "      <td>1</td>\n",
       "      <td>Education</td>\n",
       "      <td>2720</td>\n",
       "      <td>2004.0</td>\n",
       "      <td>NaN</td>\n",
       "    </tr>\n",
       "    <tr>\n",
       "      <th>2</th>\n",
       "      <td>0</td>\n",
       "      <td>2</td>\n",
       "      <td>Education</td>\n",
       "      <td>5376</td>\n",
       "      <td>1991.0</td>\n",
       "      <td>NaN</td>\n",
       "    </tr>\n",
       "    <tr>\n",
       "      <th>3</th>\n",
       "      <td>0</td>\n",
       "      <td>3</td>\n",
       "      <td>Education</td>\n",
       "      <td>23685</td>\n",
       "      <td>2002.0</td>\n",
       "      <td>NaN</td>\n",
       "    </tr>\n",
       "    <tr>\n",
       "      <th>4</th>\n",
       "      <td>0</td>\n",
       "      <td>4</td>\n",
       "      <td>Education</td>\n",
       "      <td>116607</td>\n",
       "      <td>1975.0</td>\n",
       "      <td>NaN</td>\n",
       "    </tr>\n",
       "  </tbody>\n",
       "</table>\n",
       "</div>"
      ],
      "text/plain": [
       "   site_id  building_id primary_use  square_feet  year_built  floor_count\n",
       "0        0            0   Education         7432      2008.0          NaN\n",
       "1        0            1   Education         2720      2004.0          NaN\n",
       "2        0            2   Education         5376      1991.0          NaN\n",
       "3        0            3   Education        23685      2002.0          NaN\n",
       "4        0            4   Education       116607      1975.0          NaN"
      ]
     },
     "execution_count": 4,
     "metadata": {},
     "output_type": "execute_result"
    }
   ],
   "source": [
    "building.head()\n"
   ]
  },
  {
   "cell_type": "code",
   "execution_count": 5,
   "id": "a82be1d3",
   "metadata": {},
   "outputs": [
    {
     "data": {
      "text/html": [
       "<div>\n",
       "<style scoped>\n",
       "    .dataframe tbody tr th:only-of-type {\n",
       "        vertical-align: middle;\n",
       "    }\n",
       "\n",
       "    .dataframe tbody tr th {\n",
       "        vertical-align: top;\n",
       "    }\n",
       "\n",
       "    .dataframe thead th {\n",
       "        text-align: right;\n",
       "    }\n",
       "</style>\n",
       "<table border=\"1\" class=\"dataframe\">\n",
       "  <thead>\n",
       "    <tr style=\"text-align: right;\">\n",
       "      <th></th>\n",
       "      <th>site_id</th>\n",
       "      <th>timestamp</th>\n",
       "      <th>air_temperature</th>\n",
       "      <th>cloud_coverage</th>\n",
       "      <th>dew_temperature</th>\n",
       "      <th>precip_depth_1_hr</th>\n",
       "      <th>sea_level_pressure</th>\n",
       "      <th>wind_direction</th>\n",
       "      <th>wind_speed</th>\n",
       "    </tr>\n",
       "  </thead>\n",
       "  <tbody>\n",
       "    <tr>\n",
       "      <th>0</th>\n",
       "      <td>0</td>\n",
       "      <td>2016-01-01 00:00:00</td>\n",
       "      <td>25.0</td>\n",
       "      <td>6.0</td>\n",
       "      <td>20.0</td>\n",
       "      <td>NaN</td>\n",
       "      <td>1019.7</td>\n",
       "      <td>0.0</td>\n",
       "      <td>0.0</td>\n",
       "    </tr>\n",
       "    <tr>\n",
       "      <th>1</th>\n",
       "      <td>0</td>\n",
       "      <td>2016-01-01 01:00:00</td>\n",
       "      <td>24.4</td>\n",
       "      <td>NaN</td>\n",
       "      <td>21.1</td>\n",
       "      <td>-1.0</td>\n",
       "      <td>1020.2</td>\n",
       "      <td>70.0</td>\n",
       "      <td>1.5</td>\n",
       "    </tr>\n",
       "    <tr>\n",
       "      <th>2</th>\n",
       "      <td>0</td>\n",
       "      <td>2016-01-01 02:00:00</td>\n",
       "      <td>22.8</td>\n",
       "      <td>2.0</td>\n",
       "      <td>21.1</td>\n",
       "      <td>0.0</td>\n",
       "      <td>1020.2</td>\n",
       "      <td>0.0</td>\n",
       "      <td>0.0</td>\n",
       "    </tr>\n",
       "    <tr>\n",
       "      <th>3</th>\n",
       "      <td>0</td>\n",
       "      <td>2016-01-01 03:00:00</td>\n",
       "      <td>21.1</td>\n",
       "      <td>2.0</td>\n",
       "      <td>20.6</td>\n",
       "      <td>0.0</td>\n",
       "      <td>1020.1</td>\n",
       "      <td>0.0</td>\n",
       "      <td>0.0</td>\n",
       "    </tr>\n",
       "    <tr>\n",
       "      <th>4</th>\n",
       "      <td>0</td>\n",
       "      <td>2016-01-01 04:00:00</td>\n",
       "      <td>20.0</td>\n",
       "      <td>2.0</td>\n",
       "      <td>20.0</td>\n",
       "      <td>-1.0</td>\n",
       "      <td>1020.0</td>\n",
       "      <td>250.0</td>\n",
       "      <td>2.6</td>\n",
       "    </tr>\n",
       "  </tbody>\n",
       "</table>\n",
       "</div>"
      ],
      "text/plain": [
       "   site_id            timestamp  air_temperature  cloud_coverage  \\\n",
       "0        0  2016-01-01 00:00:00             25.0             6.0   \n",
       "1        0  2016-01-01 01:00:00             24.4             NaN   \n",
       "2        0  2016-01-01 02:00:00             22.8             2.0   \n",
       "3        0  2016-01-01 03:00:00             21.1             2.0   \n",
       "4        0  2016-01-01 04:00:00             20.0             2.0   \n",
       "\n",
       "   dew_temperature  precip_depth_1_hr  sea_level_pressure  wind_direction  \\\n",
       "0             20.0                NaN              1019.7             0.0   \n",
       "1             21.1               -1.0              1020.2            70.0   \n",
       "2             21.1                0.0              1020.2             0.0   \n",
       "3             20.6                0.0              1020.1             0.0   \n",
       "4             20.0               -1.0              1020.0           250.0   \n",
       "\n",
       "   wind_speed  \n",
       "0         0.0  \n",
       "1         1.5  \n",
       "2         0.0  \n",
       "3         0.0  \n",
       "4         2.6  "
      ]
     },
     "execution_count": 5,
     "metadata": {},
     "output_type": "execute_result"
    }
   ],
   "source": [
    "weather.head()"
   ]
  },
  {
   "cell_type": "code",
   "execution_count": 6,
   "id": "5b1d0ea6",
   "metadata": {
    "scrolled": true
   },
   "outputs": [
    {
     "name": "stdout",
     "output_type": "stream",
     "text": [
      "<class 'pandas.core.frame.DataFrame'>\n",
      "RangeIndex: 1449 entries, 0 to 1448\n",
      "Data columns (total 6 columns):\n",
      " #   Column       Non-Null Count  Dtype  \n",
      "---  ------       --------------  -----  \n",
      " 0   site_id      1449 non-null   int64  \n",
      " 1   building_id  1449 non-null   int64  \n",
      " 2   primary_use  1449 non-null   object \n",
      " 3   square_feet  1449 non-null   int64  \n",
      " 4   year_built   675 non-null    float64\n",
      " 5   floor_count  355 non-null    float64\n",
      "dtypes: float64(2), int64(3), object(1)\n",
      "memory usage: 68.0+ KB\n"
     ]
    }
   ],
   "source": [
    "building.info()"
   ]
  },
  {
   "cell_type": "code",
   "execution_count": 7,
   "id": "0b060848",
   "metadata": {},
   "outputs": [
    {
     "data": {
      "text/html": [
       "<div>\n",
       "<style scoped>\n",
       "    .dataframe tbody tr th:only-of-type {\n",
       "        vertical-align: middle;\n",
       "    }\n",
       "\n",
       "    .dataframe tbody tr th {\n",
       "        vertical-align: top;\n",
       "    }\n",
       "\n",
       "    .dataframe thead th {\n",
       "        text-align: right;\n",
       "    }\n",
       "</style>\n",
       "<table border=\"1\" class=\"dataframe\">\n",
       "  <thead>\n",
       "    <tr style=\"text-align: right;\">\n",
       "      <th></th>\n",
       "      <th>site_id</th>\n",
       "      <th>building_id</th>\n",
       "      <th>square_feet</th>\n",
       "      <th>year_built</th>\n",
       "      <th>floor_count</th>\n",
       "    </tr>\n",
       "  </thead>\n",
       "  <tbody>\n",
       "    <tr>\n",
       "      <th>count</th>\n",
       "      <td>1449.000000</td>\n",
       "      <td>1449.000000</td>\n",
       "      <td>1449.000000</td>\n",
       "      <td>675.000000</td>\n",
       "      <td>355.000000</td>\n",
       "    </tr>\n",
       "    <tr>\n",
       "      <th>mean</th>\n",
       "      <td>6.952381</td>\n",
       "      <td>724.000000</td>\n",
       "      <td>92111.776398</td>\n",
       "      <td>1967.957037</td>\n",
       "      <td>3.740845</td>\n",
       "    </tr>\n",
       "    <tr>\n",
       "      <th>std</th>\n",
       "      <td>5.003432</td>\n",
       "      <td>418.434583</td>\n",
       "      <td>110769.950997</td>\n",
       "      <td>31.054030</td>\n",
       "      <td>3.333683</td>\n",
       "    </tr>\n",
       "    <tr>\n",
       "      <th>min</th>\n",
       "      <td>0.000000</td>\n",
       "      <td>0.000000</td>\n",
       "      <td>283.000000</td>\n",
       "      <td>1900.000000</td>\n",
       "      <td>1.000000</td>\n",
       "    </tr>\n",
       "    <tr>\n",
       "      <th>25%</th>\n",
       "      <td>3.000000</td>\n",
       "      <td>362.000000</td>\n",
       "      <td>23012.000000</td>\n",
       "      <td>1949.000000</td>\n",
       "      <td>1.000000</td>\n",
       "    </tr>\n",
       "    <tr>\n",
       "      <th>50%</th>\n",
       "      <td>5.000000</td>\n",
       "      <td>724.000000</td>\n",
       "      <td>57673.000000</td>\n",
       "      <td>1970.000000</td>\n",
       "      <td>3.000000</td>\n",
       "    </tr>\n",
       "    <tr>\n",
       "      <th>75%</th>\n",
       "      <td>13.000000</td>\n",
       "      <td>1086.000000</td>\n",
       "      <td>115676.000000</td>\n",
       "      <td>1995.000000</td>\n",
       "      <td>5.000000</td>\n",
       "    </tr>\n",
       "    <tr>\n",
       "      <th>max</th>\n",
       "      <td>15.000000</td>\n",
       "      <td>1448.000000</td>\n",
       "      <td>875000.000000</td>\n",
       "      <td>2017.000000</td>\n",
       "      <td>26.000000</td>\n",
       "    </tr>\n",
       "  </tbody>\n",
       "</table>\n",
       "</div>"
      ],
      "text/plain": [
       "           site_id  building_id    square_feet   year_built  floor_count\n",
       "count  1449.000000  1449.000000    1449.000000   675.000000   355.000000\n",
       "mean      6.952381   724.000000   92111.776398  1967.957037     3.740845\n",
       "std       5.003432   418.434583  110769.950997    31.054030     3.333683\n",
       "min       0.000000     0.000000     283.000000  1900.000000     1.000000\n",
       "25%       3.000000   362.000000   23012.000000  1949.000000     1.000000\n",
       "50%       5.000000   724.000000   57673.000000  1970.000000     3.000000\n",
       "75%      13.000000  1086.000000  115676.000000  1995.000000     5.000000\n",
       "max      15.000000  1448.000000  875000.000000  2017.000000    26.000000"
      ]
     },
     "execution_count": 7,
     "metadata": {},
     "output_type": "execute_result"
    }
   ],
   "source": [
    "building.describe()"
   ]
  },
  {
   "cell_type": "code",
   "execution_count": 8,
   "id": "f0e53e2f",
   "metadata": {},
   "outputs": [
    {
     "data": {
      "text/html": [
       "<div>\n",
       "<style scoped>\n",
       "    .dataframe tbody tr th:only-of-type {\n",
       "        vertical-align: middle;\n",
       "    }\n",
       "\n",
       "    .dataframe tbody tr th {\n",
       "        vertical-align: top;\n",
       "    }\n",
       "\n",
       "    .dataframe thead th {\n",
       "        text-align: right;\n",
       "    }\n",
       "</style>\n",
       "<table border=\"1\" class=\"dataframe\">\n",
       "  <thead>\n",
       "    <tr style=\"text-align: right;\">\n",
       "      <th></th>\n",
       "      <th>site_id</th>\n",
       "      <th>building_id</th>\n",
       "      <th>primary_use</th>\n",
       "      <th>square_feet</th>\n",
       "      <th>year_built</th>\n",
       "      <th>floor_count</th>\n",
       "    </tr>\n",
       "  </thead>\n",
       "  <tbody>\n",
       "    <tr>\n",
       "      <th>0</th>\n",
       "      <td>0</td>\n",
       "      <td>0</td>\n",
       "      <td>Education</td>\n",
       "      <td>7432</td>\n",
       "      <td>2008.0</td>\n",
       "      <td>NaN</td>\n",
       "    </tr>\n",
       "    <tr>\n",
       "      <th>1</th>\n",
       "      <td>0</td>\n",
       "      <td>1</td>\n",
       "      <td>Education</td>\n",
       "      <td>2720</td>\n",
       "      <td>2004.0</td>\n",
       "      <td>NaN</td>\n",
       "    </tr>\n",
       "    <tr>\n",
       "      <th>2</th>\n",
       "      <td>0</td>\n",
       "      <td>2</td>\n",
       "      <td>Education</td>\n",
       "      <td>5376</td>\n",
       "      <td>1991.0</td>\n",
       "      <td>NaN</td>\n",
       "    </tr>\n",
       "    <tr>\n",
       "      <th>3</th>\n",
       "      <td>0</td>\n",
       "      <td>3</td>\n",
       "      <td>Education</td>\n",
       "      <td>23685</td>\n",
       "      <td>2002.0</td>\n",
       "      <td>NaN</td>\n",
       "    </tr>\n",
       "    <tr>\n",
       "      <th>4</th>\n",
       "      <td>0</td>\n",
       "      <td>4</td>\n",
       "      <td>Education</td>\n",
       "      <td>116607</td>\n",
       "      <td>1975.0</td>\n",
       "      <td>NaN</td>\n",
       "    </tr>\n",
       "  </tbody>\n",
       "</table>\n",
       "</div>"
      ],
      "text/plain": [
       "   site_id  building_id primary_use  square_feet  year_built  floor_count\n",
       "0        0            0   Education         7432      2008.0          NaN\n",
       "1        0            1   Education         2720      2004.0          NaN\n",
       "2        0            2   Education         5376      1991.0          NaN\n",
       "3        0            3   Education        23685      2002.0          NaN\n",
       "4        0            4   Education       116607      1975.0          NaN"
      ]
     },
     "execution_count": 8,
     "metadata": {},
     "output_type": "execute_result"
    }
   ],
   "source": [
    "building.head()"
   ]
  },
  {
   "cell_type": "markdown",
   "id": "26ffd857",
   "metadata": {},
   "source": [
    "## Exploratory Data Analysis"
   ]
  },
  {
   "cell_type": "code",
   "execution_count": 9,
   "id": "e19a5d16",
   "metadata": {},
   "outputs": [
    {
     "data": {
      "image/png": "[encoded data removed]",
      "text/plain": [
       "<Figure size 800x600 with 1 Axes>"
      ]
     },
     "metadata": {},
     "output_type": "display_data"
    }
   ],
   "source": [
    "plt.figure(figsize=(8,6))\n",
    "plt.scatter(range(train.shape[0]), np.sort(train['meter_reading'].values))\n",
    "plt.xlabel('index', fontsize=12)\n",
    "plt.ylabel('meter_reading', fontsize=12)\n",
    "plt.title(\"Target Distribution\", fontsize=14)\n",
    "plt.show()"
   ]
  },
  {
   "cell_type": "code",
   "execution_count": 10,
   "id": "d244a2c5",
   "metadata": {},
   "outputs": [
    {
     "data": {
      "text/plain": [
       "<Axes: >"
      ]
     },
     "execution_count": 10,
     "metadata": {},
     "output_type": "execute_result"
    },
    {
     "data": {
      "image/png": "[encoded data removed]",
      "text/plain": [
       "<Figure size 1500x500 with 1 Axes>"
      ]
     },
     "metadata": {},
     "output_type": "display_data"
    }
   ],
   "source": [
    "plt.figure(figsize = (15,5))\n",
    "train['meter_reading'].plot()"
   ]
  },
  {
   "cell_type": "code",
   "execution_count": 11,
   "id": "fcbf44c5",
   "metadata": {},
   "outputs": [
    {
     "data": {
      "image/png": "[encoded data removed]",
      "text/plain": [
       "<Figure size 640x480 with 1 Axes>"
      ]
     },
     "metadata": {},
     "output_type": "display_data"
    }
   ],
   "source": [
    "primary_use_counts = building.groupby(\"primary_use\")[\"primary_use\"].count()\n",
    "\n",
    "# Create a bar chart of the primary use counts\n",
    "plt.bar(primary_use_counts.index, primary_use_counts.values)\n",
    "\n",
    "# Add chart title and axis labels\n",
    "plt.title(\"Primary Use Counts for each site\")\n",
    "plt.xlabel(\"Primary Use\")\n",
    "plt.ylabel(\"Count\")\n",
    "\n",
    "plt.xticks(rotation=90)\n",
    "# Show the chart\n",
    "plt.show()"
   ]
  },
  {
   "cell_type": "code",
   "execution_count": 12,
   "id": "2c9b8093",
   "metadata": {},
   "outputs": [
    {
     "data": {
      "image/png": "[encoded data removed]",
      "text/plain": [
       "<Figure size 640x480 with 1 Axes>"
      ]
     },
     "metadata": {},
     "output_type": "display_data"
    }
   ],
   "source": [
    "site_means = weather.groupby(\"site_id\")[\"air_temperature\"].mean()\n",
    "\n",
    "# Create a bar chart of the site means\n",
    "plt.bar(site_means.index, site_means.values)\n",
    "\n",
    "# Add chart title and axis labels\n",
    "plt.title(\"Mean Air Temperature by Site\")\n",
    "plt.xlabel(\"Site Id\")\n",
    "plt.ylabel(\"Mean Air Temperature\")\n",
    "\n",
    "# Show the chart\n",
    "plt.show()"
   ]
  },
  {
   "cell_type": "code",
   "execution_count": 13,
   "id": "010ca6aa",
   "metadata": {},
   "outputs": [
    {
     "name": "stderr",
     "output_type": "stream",
     "text": [
      "C:\\Users\\sweth\\AppData\\Local\\Temp\\ipykernel_22272\\3204196221.py:2: FutureWarning: The default value of numeric_only in DataFrame.corr is deprecated. In a future version, it will default to False. Select only valid columns or specify the value of numeric_only to silence this warning.\n",
      "  correlations = train.corr()['meter_reading'].sort_values()\n"
     ]
    },
    {
     "name": "stdout",
     "output_type": "stream",
     "text": [
      "Most Positive Correlations:\n",
      " building_id      0.040663\n",
      "meter            0.076777\n",
      "meter_reading    1.000000\n",
      "Name: meter_reading, dtype: float64\n",
      "\n",
      "Most Negative Correlations:\n",
      " building_id      0.040663\n",
      "meter            0.076777\n",
      "meter_reading    1.000000\n",
      "Name: meter_reading, dtype: float64\n"
     ]
    },
    {
     "name": "stderr",
     "output_type": "stream",
     "text": [
      "C:\\Users\\sweth\\AppData\\Local\\Temp\\ipykernel_22272\\3204196221.py:8: FutureWarning: The default value of numeric_only in DataFrame.corr is deprecated. In a future version, it will default to False. Select only valid columns or specify the value of numeric_only to silence this warning.\n",
      "  corrs = weather.corr()\n"
     ]
    },
    {
     "data": {
      "image/png": "[encoded data removed]",
      "text/plain": [
       "<Figure size 640x480 with 2 Axes>"
      ]
     },
     "metadata": {},
     "output_type": "display_data"
    }
   ],
   "source": [
    "# Find correlations with the target and sort\n",
    "correlations = train.corr()['meter_reading'].sort_values()\n",
    "\n",
    "# Display correlations\n",
    "print('Most Positive Correlations:\\n', correlations.tail(15))\n",
    "print('\\nMost Negative Correlations:\\n', correlations.head(15))\n",
    "\n",
    "corrs = weather.corr()\n",
    "corrs\n",
    "\n",
    "\n",
    "# Heatmap of correlations\n",
    "sns.heatmap(corrs, annot = True)\n",
    "plt.title('Correlation Heatmap');"
   ]
  },
  {
   "cell_type": "markdown",
   "id": "69f7cbc9",
   "metadata": {},
   "source": [
    "## Data Preprocessing"
   ]
  },
  {
   "cell_type": "code",
   "execution_count": 14,
   "id": "cf11a910",
   "metadata": {},
   "outputs": [],
   "source": [
    "def label_encoding(df,column_name): \n",
    "    \n",
    "    \"\"\"Label encoding column name from a data frame\"\"\"\n",
    "    \n",
    "    le = LabelEncoder()\n",
    "    df[''+column_name+''] = le.fit_transform(df[''+column_name+''])\n"
   ]
  },
  {
   "cell_type": "code",
   "execution_count": 15,
   "id": "71ccfc64",
   "metadata": {},
   "outputs": [],
   "source": [
    "label_encoding(building,\"primary_use\")"
   ]
  },
  {
   "cell_type": "code",
   "execution_count": 16,
   "id": "c41201e5",
   "metadata": {},
   "outputs": [
    {
     "data": {
      "text/html": [
       "<div>\n",
       "<style scoped>\n",
       "    .dataframe tbody tr th:only-of-type {\n",
       "        vertical-align: middle;\n",
       "    }\n",
       "\n",
       "    .dataframe tbody tr th {\n",
       "        vertical-align: top;\n",
       "    }\n",
       "\n",
       "    .dataframe thead th {\n",
       "        text-align: right;\n",
       "    }\n",
       "</style>\n",
       "<table border=\"1\" class=\"dataframe\">\n",
       "  <thead>\n",
       "    <tr style=\"text-align: right;\">\n",
       "      <th></th>\n",
       "      <th>site_id</th>\n",
       "      <th>building_id</th>\n",
       "      <th>primary_use</th>\n",
       "      <th>square_feet</th>\n",
       "      <th>year_built</th>\n",
       "      <th>floor_count</th>\n",
       "    </tr>\n",
       "  </thead>\n",
       "  <tbody>\n",
       "    <tr>\n",
       "      <th>0</th>\n",
       "      <td>0</td>\n",
       "      <td>0</td>\n",
       "      <td>0</td>\n",
       "      <td>7432</td>\n",
       "      <td>2008.0</td>\n",
       "      <td>NaN</td>\n",
       "    </tr>\n",
       "    <tr>\n",
       "      <th>1</th>\n",
       "      <td>0</td>\n",
       "      <td>1</td>\n",
       "      <td>0</td>\n",
       "      <td>2720</td>\n",
       "      <td>2004.0</td>\n",
       "      <td>NaN</td>\n",
       "    </tr>\n",
       "    <tr>\n",
       "      <th>2</th>\n",
       "      <td>0</td>\n",
       "      <td>2</td>\n",
       "      <td>0</td>\n",
       "      <td>5376</td>\n",
       "      <td>1991.0</td>\n",
       "      <td>NaN</td>\n",
       "    </tr>\n",
       "    <tr>\n",
       "      <th>3</th>\n",
       "      <td>0</td>\n",
       "      <td>3</td>\n",
       "      <td>0</td>\n",
       "      <td>23685</td>\n",
       "      <td>2002.0</td>\n",
       "      <td>NaN</td>\n",
       "    </tr>\n",
       "    <tr>\n",
       "      <th>4</th>\n",
       "      <td>0</td>\n",
       "      <td>4</td>\n",
       "      <td>0</td>\n",
       "      <td>116607</td>\n",
       "      <td>1975.0</td>\n",
       "      <td>NaN</td>\n",
       "    </tr>\n",
       "  </tbody>\n",
       "</table>\n",
       "</div>"
      ],
      "text/plain": [
       "   site_id  building_id  primary_use  square_feet  year_built  floor_count\n",
       "0        0            0            0         7432      2008.0          NaN\n",
       "1        0            1            0         2720      2004.0          NaN\n",
       "2        0            2            0         5376      1991.0          NaN\n",
       "3        0            3            0        23685      2002.0          NaN\n",
       "4        0            4            0       116607      1975.0          NaN"
      ]
     },
     "execution_count": 16,
     "metadata": {},
     "output_type": "execute_result"
    }
   ],
   "source": [
    "building.head()"
   ]
  },
  {
   "cell_type": "code",
   "execution_count": 17,
   "id": "7410c2ad",
   "metadata": {},
   "outputs": [],
   "source": [
    "def add_time_stamp_features(df,timestamp_colname):\n",
    "    \n",
    "    \"\"\"Adding time stamp features\"\"\"\n",
    "    \n",
    "    df[\"datetime\"] = pd.to_datetime(df[''+timestamp_colname+''])\n",
    "    df[\"day\"] = df[\"datetime\"].dt.day\n",
    "    df[\"week\"] = df[\"datetime\"].dt.week\n",
    "    df[\"month\"] = df[\"datetime\"].dt.month"
   ]
  },
  {
   "cell_type": "code",
   "execution_count": 18,
   "id": "64d7f23a",
   "metadata": {},
   "outputs": [],
   "source": [
    "def weather_data_filler(df,column,by='mean'):\n",
    "    \n",
    "    \"\"\"Filling data by mean/count/min/max/mode\"\"\"\n",
    "    \n",
    "    if by=='mean':\n",
    "        filler = pd.DataFrame(df.groupby(['site_id','day','month'])[[''+column+'']].mean(),columns=[''+column+''])\n",
    "    elif by=='count':\n",
    "        filler = pd.DataFrame(df.groupby(['site_id','day','month'])[[''+column+'']].count(),columns=[''+column+''])\n",
    "    elif by=='min':\n",
    "        filler = pd.DataFrame(df.groupby(['site_id','day','month'])[''+column+''].min(),columns=[''+column+''])\n",
    "    elif by=='max':\n",
    "        filler = pd.DataFrame(df.groupby(['site_id','day','month'])[''+column+''].max(),columns=[''+column+''])\n",
    "    elif by=='mode':\n",
    "        filler = pd.DataFrame(df.groupby(['site_id','day','month'])[''+column+''].mode(),columns=[''+column+''])\n",
    "    \n",
    "    df.update(filler,overwrite=False)"
   ]
  },
  {
   "cell_type": "code",
   "execution_count": 19,
   "id": "aaffe6d6",
   "metadata": {},
   "outputs": [],
   "source": [
    "def weather_data_filler_1(df,column,method='ffill',by='mean'):\n",
    "    \n",
    "    \"\"\"Filling the NA values by forward fill and then by mean\"\"\"\n",
    "    \n",
    "    if by=='mean':\n",
    "        filler = df.groupby(['site_id','day','month'])[''+column+''].mean()\n",
    "    elif by=='count':\n",
    "        filler = df.groupby(['site_id','day','month'])[''+column+''].count()\n",
    "    elif by=='min':\n",
    "        filler = df.groupby(['site_id','day','month'])[''+column+''].min()\n",
    "    elif by=='max':\n",
    "        filler = df.groupby(['site_id','day','month'])[''+column+''].max()\n",
    "    elif by=='mode':\n",
    "        filler = df.groupby(['site_id','day','month'])[''+column+''].mode()    \n",
    "    \n",
    "    filler = pd.DataFrame(filler.fillna(method=method),columns=[''+column+''])\n",
    "\n",
    "    df.update(filler,overwrite=False)"
   ]
  },
  {
   "cell_type": "code",
   "execution_count": 20,
   "id": "db895e40",
   "metadata": {},
   "outputs": [],
   "source": [
    "def fill_weather_dataset_mean(weather_df):\n",
    "    \n",
    "    \"\"\"Filling weather data by mean\"\"\"\n",
    "    \n",
    "    # Find Missing Dates\n",
    "    time_format = \"%Y-%m-%d %H:%M:%S\"\n",
    "    start_date = datetime.datetime.strptime(weather_df['timestamp'].min(),time_format)\n",
    "    end_date = datetime.datetime.strptime(weather_df['timestamp'].max(),time_format)\n",
    "    total_hours = int(((end_date - start_date).total_seconds() + 3600) / 3600)\n",
    "    hours_list = [(end_date - datetime.timedelta(hours=x)).strftime(time_format) for x in range(total_hours)]\n",
    "\n",
    "    missing_hours = []\n",
    "    for site_id in range(16):\n",
    "        site_hours = np.array(weather_df[weather_df['site_id'] == site_id]['timestamp'])\n",
    "        new_rows = pd.DataFrame(np.setdiff1d(hours_list,site_hours),columns=['timestamp'])\n",
    "        new_rows['site_id'] = site_id\n",
    "        weather_df = pd.concat([weather_df,new_rows])\n",
    "\n",
    "        weather_df = weather_df.reset_index(drop=True)           \n",
    "\n",
    "    # Add new timestamp Features \n",
    "    add_time_stamp_features(weather_df,\"timestamp\")\n",
    "    \n",
    "    # Reset Index for Fast Update\n",
    "    weather_df = weather_df.set_index(['site_id','day','month'])\n",
    "\n",
    "    weather_data_filler(weather_df,\"air_temperature\",by='mean')\n",
    "    \n",
    "    \n",
    "    weather_data_filler_1(weather_df,\"cloud_coverage\",method='ffill',by='mean')\n",
    "\n",
    "    weather_data_filler(weather_df,\"dew_temperature\",by='mean')\n",
    "\n",
    "    weather_data_filler_1(weather_df,\"sea_level_pressure\",method='ffill',by='mean')\n",
    "\n",
    "    weather_data_filler(weather_df,\"wind_direction\",by='mean')\n",
    "\n",
    "    weather_data_filler(weather_df,\"wind_speed\",by='mean')\n",
    "    \n",
    "    weather_data_filler_1(weather_df,\"precip_depth_1_hr\",method='ffill',by='mean')\n",
    "    \n",
    "    weather_df = weather_df.reset_index()\n",
    "    weather_df = weather_df.drop(['datetime','day','week','month'],axis=1)\n",
    "        \n",
    "    return weather_df\n"
   ]
  },
  {
   "cell_type": "code",
   "execution_count": 21,
   "id": "d818ec56",
   "metadata": {},
   "outputs": [],
   "source": [
    "def fill_weather_dataset_max(weather_df):\n",
    "    \n",
    "    \n",
    "    \"\"\"Filling weather data NA values by max\"\"\"\n",
    "    \n",
    "    # Find Missing Dates\n",
    "    time_format = \"%Y-%m-%d %H:%M:%S\"\n",
    "    start_date = datetime.datetime.strptime(weather_df['timestamp'].min(),time_format)\n",
    "    end_date = datetime.datetime.strptime(weather_df['timestamp'].max(),time_format)\n",
    "    total_hours = int(((end_date - start_date).total_seconds() + 3600) / 3600)\n",
    "    hours_list = [(end_date - datetime.timedelta(hours=x)).strftime(time_format) for x in range(total_hours)]\n",
    "\n",
    "    missing_hours = []\n",
    "    for site_id in range(16):\n",
    "        site_hours = np.array(weather_df[weather_df['site_id'] == site_id]['timestamp'])\n",
    "        new_rows = pd.DataFrame(np.setdiff1d(hours_list,site_hours),columns=['timestamp'])\n",
    "        new_rows['site_id'] = site_id\n",
    "        weather_df = pd.concat([weather_df,new_rows])\n",
    "\n",
    "        weather_df = weather_df.reset_index(drop=True)           \n",
    "\n",
    "    # Add new timestamp Features \n",
    "    add_time_stamp_features(weather_df,\"timestamp\")\n",
    "    \n",
    "    # Reset Index for Fast Update\n",
    "    weather_df = weather_df.set_index(['site_id','day','month'])\n",
    "\n",
    "    weather_data_filler(weather_df,\"air_temperature\",by='max')\n",
    "    \n",
    "    \n",
    "    weather_data_filler_1(weather_df,\"cloud_coverage\",method='ffill',by='max')\n",
    "\n",
    "    weather_data_filler(weather_df,\"dew_temperature\",by='max')\n",
    "\n",
    "    weather_data_filler_1(weather_df,\"sea_level_pressure\",method='ffill',by='max')\n",
    "\n",
    "    weather_data_filler(weather_df,\"wind_direction\",by='max')\n",
    "\n",
    "    weather_data_filler(weather_df,\"wind_speed\",by='max')\n",
    "    \n",
    "    weather_data_filler_1(weather_df,\"precip_depth_1_hr\",method='ffill',by='max')\n",
    "    \n",
    "    weather_df = weather_df.reset_index()\n",
    "    weather_df = weather_df.drop(['datetime','day','week','month'],axis=1)\n",
    "        \n",
    "    return weather_df\n"
   ]
  },
  {
   "cell_type": "code",
   "execution_count": 22,
   "id": "3aa2a63b",
   "metadata": {},
   "outputs": [],
   "source": [
    "def fill_weather_dataset_min(weather_df):\n",
    "    \n",
    "    \"\"\"Filling weather data NA values by min\"\"\"\n",
    "    \n",
    "    # Find Missing Dates\n",
    "    time_format = \"%Y-%m-%d %H:%M:%S\"\n",
    "    start_date = datetime.datetime.strptime(weather_df['timestamp'].min(),time_format)\n",
    "    end_date = datetime.datetime.strptime(weather_df['timestamp'].max(),time_format)\n",
    "    total_hours = int(((end_date - start_date).total_seconds() + 3600) / 3600)\n",
    "    hours_list = [(end_date - datetime.timedelta(hours=x)).strftime(time_format) for x in range(total_hours)]\n",
    "\n",
    "    missing_hours = []\n",
    "    for site_id in range(16):\n",
    "        site_hours = np.array(weather_df[weather_df['site_id'] == site_id]['timestamp'])\n",
    "        new_rows = pd.DataFrame(np.setdiff1d(hours_list,site_hours),columns=['timestamp'])\n",
    "        new_rows['site_id'] = site_id\n",
    "        weather_df = pd.concat([weather_df,new_rows])\n",
    "\n",
    "        weather_df = weather_df.reset_index(drop=True)           \n",
    "\n",
    "    # Add new timestamp Features \n",
    "    add_time_stamp_features(weather_df,\"timestamp\")\n",
    "    \n",
    "    # Reset Index for Fast Update\n",
    "    weather_df = weather_df.set_index(['site_id','day','month'])\n",
    "\n",
    "    weather_data_filler(weather_df,\"air_temperature\",by='min')\n",
    "    \n",
    "    \n",
    "    weather_data_filler_1(weather_df,\"cloud_coverage\",method='ffill',by='min')\n",
    "\n",
    "    weather_data_filler(weather_df,\"dew_temperature\",by='min')\n",
    "\n",
    "    weather_data_filler_1(weather_df,\"sea_level_pressure\",method='ffill',by='min')\n",
    "\n",
    "    weather_data_filler(weather_df,\"wind_direction\",by='min')\n",
    "\n",
    "    weather_data_filler(weather_df,\"wind_speed\",by='min')\n",
    "    \n",
    "    weather_data_filler_1(weather_df,\"precip_depth_1_hr\",method='ffill',by='min')\n",
    "    \n",
    "    weather_df = weather_df.reset_index()\n",
    "    weather_df = weather_df.drop(['datetime','day','week','month'],axis=1)\n",
    "        \n",
    "    return weather_df"
   ]
  },
  {
   "cell_type": "code",
   "execution_count": 23,
   "id": "49f7bf00",
   "metadata": {},
   "outputs": [
    {
     "name": "stderr",
     "output_type": "stream",
     "text": [
      "C:\\Users\\sweth\\AppData\\Local\\Temp\\ipykernel_22272\\894093638.py:7: FutureWarning: Series.dt.weekofyear and Series.dt.week have been deprecated. Please use Series.dt.isocalendar().week instead.\n",
      "  df[\"week\"] = df[\"datetime\"].dt.week\n"
     ]
    },
    {
     "data": {
      "text/html": [
       "<div>\n",
       "<style scoped>\n",
       "    .dataframe tbody tr th:only-of-type {\n",
       "        vertical-align: middle;\n",
       "    }\n",
       "\n",
       "    .dataframe tbody tr th {\n",
       "        vertical-align: top;\n",
       "    }\n",
       "\n",
       "    .dataframe thead th {\n",
       "        text-align: right;\n",
       "    }\n",
       "</style>\n",
       "<table border=\"1\" class=\"dataframe\">\n",
       "  <thead>\n",
       "    <tr style=\"text-align: right;\">\n",
       "      <th></th>\n",
       "      <th>site_id</th>\n",
       "      <th>timestamp</th>\n",
       "      <th>air_temperature</th>\n",
       "      <th>cloud_coverage</th>\n",
       "      <th>dew_temperature</th>\n",
       "      <th>precip_depth_1_hr</th>\n",
       "      <th>sea_level_pressure</th>\n",
       "      <th>wind_direction</th>\n",
       "      <th>wind_speed</th>\n",
       "    </tr>\n",
       "  </thead>\n",
       "  <tbody>\n",
       "    <tr>\n",
       "      <th>0</th>\n",
       "      <td>0</td>\n",
       "      <td>2016-01-01 00:00:00</td>\n",
       "      <td>25.0</td>\n",
       "      <td>6.000000</td>\n",
       "      <td>20.0</td>\n",
       "      <td>-0.173913</td>\n",
       "      <td>1019.7</td>\n",
       "      <td>0.0</td>\n",
       "      <td>0.0</td>\n",
       "    </tr>\n",
       "    <tr>\n",
       "      <th>1</th>\n",
       "      <td>0</td>\n",
       "      <td>2016-01-01 01:00:00</td>\n",
       "      <td>24.4</td>\n",
       "      <td>4.285714</td>\n",
       "      <td>21.1</td>\n",
       "      <td>-1.000000</td>\n",
       "      <td>1020.2</td>\n",
       "      <td>70.0</td>\n",
       "      <td>1.5</td>\n",
       "    </tr>\n",
       "    <tr>\n",
       "      <th>2</th>\n",
       "      <td>0</td>\n",
       "      <td>2016-01-01 02:00:00</td>\n",
       "      <td>22.8</td>\n",
       "      <td>2.000000</td>\n",
       "      <td>21.1</td>\n",
       "      <td>0.000000</td>\n",
       "      <td>1020.2</td>\n",
       "      <td>0.0</td>\n",
       "      <td>0.0</td>\n",
       "    </tr>\n",
       "    <tr>\n",
       "      <th>3</th>\n",
       "      <td>0</td>\n",
       "      <td>2016-01-01 03:00:00</td>\n",
       "      <td>21.1</td>\n",
       "      <td>2.000000</td>\n",
       "      <td>20.6</td>\n",
       "      <td>0.000000</td>\n",
       "      <td>1020.1</td>\n",
       "      <td>0.0</td>\n",
       "      <td>0.0</td>\n",
       "    </tr>\n",
       "    <tr>\n",
       "      <th>4</th>\n",
       "      <td>0</td>\n",
       "      <td>2016-01-01 04:00:00</td>\n",
       "      <td>20.0</td>\n",
       "      <td>2.000000</td>\n",
       "      <td>20.0</td>\n",
       "      <td>-1.000000</td>\n",
       "      <td>1020.0</td>\n",
       "      <td>250.0</td>\n",
       "      <td>2.6</td>\n",
       "    </tr>\n",
       "  </tbody>\n",
       "</table>\n",
       "</div>"
      ],
      "text/plain": [
       "   site_id            timestamp  air_temperature  cloud_coverage  \\\n",
       "0        0  2016-01-01 00:00:00             25.0        6.000000   \n",
       "1        0  2016-01-01 01:00:00             24.4        4.285714   \n",
       "2        0  2016-01-01 02:00:00             22.8        2.000000   \n",
       "3        0  2016-01-01 03:00:00             21.1        2.000000   \n",
       "4        0  2016-01-01 04:00:00             20.0        2.000000   \n",
       "\n",
       "   dew_temperature  precip_depth_1_hr  sea_level_pressure  wind_direction  \\\n",
       "0             20.0          -0.173913              1019.7             0.0   \n",
       "1             21.1          -1.000000              1020.2            70.0   \n",
       "2             21.1           0.000000              1020.2             0.0   \n",
       "3             20.6           0.000000              1020.1             0.0   \n",
       "4             20.0          -1.000000              1020.0           250.0   \n",
       "\n",
       "   wind_speed  \n",
       "0         0.0  \n",
       "1         1.5  \n",
       "2         0.0  \n",
       "3         0.0  \n",
       "4         2.6  "
      ]
     },
     "execution_count": 23,
     "metadata": {},
     "output_type": "execute_result"
    }
   ],
   "source": [
    "weather_fill = fill_weather_dataset_mean(weather)\n",
    "weather_fill.head()"
   ]
  },
  {
   "cell_type": "code",
   "execution_count": 24,
   "id": "89567c9d",
   "metadata": {},
   "outputs": [
    {
     "name": "stdout",
     "output_type": "stream",
     "text": [
      "CPU times: total: 3.86 s\n",
      "Wall time: 3.98 s\n"
     ]
    }
   ],
   "source": [
    "%%time\n",
    "train = train.merge(building, left_on='building_id',right_on='building_id',how='left')"
   ]
  },
  {
   "cell_type": "code",
   "execution_count": 25,
   "id": "33fcfe10",
   "metadata": {},
   "outputs": [
    {
     "name": "stdout",
     "output_type": "stream",
     "text": [
      "CPU times: total: 8.33 s\n",
      "Wall time: 10.3 s\n"
     ]
    }
   ],
   "source": [
    "%%time\n",
    "train = train.merge(weather_fill,how='left',left_on=['site_id','timestamp'],right_on=['site_id','timestamp'])"
   ]
  },
  {
   "cell_type": "code",
   "execution_count": 26,
   "id": "346e6c14",
   "metadata": {},
   "outputs": [
    {
     "data": {
      "text/html": [
       "<div>\n",
       "<style scoped>\n",
       "    .dataframe tbody tr th:only-of-type {\n",
       "        vertical-align: middle;\n",
       "    }\n",
       "\n",
       "    .dataframe tbody tr th {\n",
       "        vertical-align: top;\n",
       "    }\n",
       "\n",
       "    .dataframe thead th {\n",
       "        text-align: right;\n",
       "    }\n",
       "</style>\n",
       "<table border=\"1\" class=\"dataframe\">\n",
       "  <thead>\n",
       "    <tr style=\"text-align: right;\">\n",
       "      <th></th>\n",
       "      <th>building_id</th>\n",
       "      <th>meter</th>\n",
       "      <th>timestamp</th>\n",
       "      <th>meter_reading</th>\n",
       "      <th>site_id</th>\n",
       "      <th>primary_use</th>\n",
       "      <th>square_feet</th>\n",
       "      <th>year_built</th>\n",
       "      <th>floor_count</th>\n",
       "      <th>air_temperature</th>\n",
       "      <th>cloud_coverage</th>\n",
       "      <th>dew_temperature</th>\n",
       "      <th>precip_depth_1_hr</th>\n",
       "      <th>sea_level_pressure</th>\n",
       "      <th>wind_direction</th>\n",
       "      <th>wind_speed</th>\n",
       "    </tr>\n",
       "  </thead>\n",
       "  <tbody>\n",
       "    <tr>\n",
       "      <th>0</th>\n",
       "      <td>105</td>\n",
       "      <td>0</td>\n",
       "      <td>2016-01-01 00:00:00</td>\n",
       "      <td>23.3036</td>\n",
       "      <td>1</td>\n",
       "      <td>0</td>\n",
       "      <td>50623</td>\n",
       "      <td>NaN</td>\n",
       "      <td>5.0</td>\n",
       "      <td>3.8</td>\n",
       "      <td>0.0</td>\n",
       "      <td>2.4</td>\n",
       "      <td>0.0</td>\n",
       "      <td>1020.9</td>\n",
       "      <td>240.0</td>\n",
       "      <td>3.1</td>\n",
       "    </tr>\n",
       "    <tr>\n",
       "      <th>1</th>\n",
       "      <td>106</td>\n",
       "      <td>3</td>\n",
       "      <td>2016-01-01 00:00:00</td>\n",
       "      <td>0.0000</td>\n",
       "      <td>1</td>\n",
       "      <td>0</td>\n",
       "      <td>5374</td>\n",
       "      <td>NaN</td>\n",
       "      <td>4.0</td>\n",
       "      <td>3.8</td>\n",
       "      <td>0.0</td>\n",
       "      <td>2.4</td>\n",
       "      <td>0.0</td>\n",
       "      <td>1020.9</td>\n",
       "      <td>240.0</td>\n",
       "      <td>3.1</td>\n",
       "    </tr>\n",
       "    <tr>\n",
       "      <th>2</th>\n",
       "      <td>108</td>\n",
       "      <td>0</td>\n",
       "      <td>2016-01-01 00:00:00</td>\n",
       "      <td>91.2653</td>\n",
       "      <td>1</td>\n",
       "      <td>0</td>\n",
       "      <td>81580</td>\n",
       "      <td>1913.0</td>\n",
       "      <td>5.0</td>\n",
       "      <td>3.8</td>\n",
       "      <td>0.0</td>\n",
       "      <td>2.4</td>\n",
       "      <td>0.0</td>\n",
       "      <td>1020.9</td>\n",
       "      <td>240.0</td>\n",
       "      <td>3.1</td>\n",
       "    </tr>\n",
       "    <tr>\n",
       "      <th>3</th>\n",
       "      <td>109</td>\n",
       "      <td>0</td>\n",
       "      <td>2016-01-01 00:00:00</td>\n",
       "      <td>80.9300</td>\n",
       "      <td>1</td>\n",
       "      <td>0</td>\n",
       "      <td>56995</td>\n",
       "      <td>1953.0</td>\n",
       "      <td>6.0</td>\n",
       "      <td>3.8</td>\n",
       "      <td>0.0</td>\n",
       "      <td>2.4</td>\n",
       "      <td>0.0</td>\n",
       "      <td>1020.9</td>\n",
       "      <td>240.0</td>\n",
       "      <td>3.1</td>\n",
       "    </tr>\n",
       "    <tr>\n",
       "      <th>4</th>\n",
       "      <td>109</td>\n",
       "      <td>3</td>\n",
       "      <td>2016-01-01 00:00:00</td>\n",
       "      <td>0.0000</td>\n",
       "      <td>1</td>\n",
       "      <td>0</td>\n",
       "      <td>56995</td>\n",
       "      <td>1953.0</td>\n",
       "      <td>6.0</td>\n",
       "      <td>3.8</td>\n",
       "      <td>0.0</td>\n",
       "      <td>2.4</td>\n",
       "      <td>0.0</td>\n",
       "      <td>1020.9</td>\n",
       "      <td>240.0</td>\n",
       "      <td>3.1</td>\n",
       "    </tr>\n",
       "  </tbody>\n",
       "</table>\n",
       "</div>"
      ],
      "text/plain": [
       "   building_id  meter            timestamp  meter_reading  site_id  \\\n",
       "0          105      0  2016-01-01 00:00:00        23.3036        1   \n",
       "1          106      3  2016-01-01 00:00:00         0.0000        1   \n",
       "2          108      0  2016-01-01 00:00:00        91.2653        1   \n",
       "3          109      0  2016-01-01 00:00:00        80.9300        1   \n",
       "4          109      3  2016-01-01 00:00:00         0.0000        1   \n",
       "\n",
       "   primary_use  square_feet  year_built  floor_count  air_temperature  \\\n",
       "0            0        50623         NaN          5.0              3.8   \n",
       "1            0         5374         NaN          4.0              3.8   \n",
       "2            0        81580      1913.0          5.0              3.8   \n",
       "3            0        56995      1953.0          6.0              3.8   \n",
       "4            0        56995      1953.0          6.0              3.8   \n",
       "\n",
       "   cloud_coverage  dew_temperature  precip_depth_1_hr  sea_level_pressure  \\\n",
       "0             0.0              2.4                0.0              1020.9   \n",
       "1             0.0              2.4                0.0              1020.9   \n",
       "2             0.0              2.4                0.0              1020.9   \n",
       "3             0.0              2.4                0.0              1020.9   \n",
       "4             0.0              2.4                0.0              1020.9   \n",
       "\n",
       "   wind_direction  wind_speed  \n",
       "0           240.0         3.1  \n",
       "1           240.0         3.1  \n",
       "2           240.0         3.1  \n",
       "3           240.0         3.1  \n",
       "4           240.0         3.1  "
      ]
     },
     "execution_count": 26,
     "metadata": {},
     "output_type": "execute_result"
    }
   ],
   "source": [
    "train.head()"
   ]
  },
  {
   "cell_type": "code",
   "execution_count": 27,
   "id": "8fd9b64a",
   "metadata": {},
   "outputs": [
    {
     "data": {
      "text/plain": [
       "19464335"
      ]
     },
     "execution_count": 27,
     "metadata": {},
     "output_type": "execute_result"
    }
   ],
   "source": [
    "len(train)"
   ]
  },
  {
   "cell_type": "code",
   "execution_count": 28,
   "id": "358e742d",
   "metadata": {},
   "outputs": [],
   "source": [
    "def log_transform(df,column):\n",
    "    \n",
    "    \"\"\"Log Transformation of dataframe column\"\"\"\n",
    "    df[''+column+''] =  np.log1p(df[''+column+''])\n",
    "    \n",
    "    \n",
    "def log_transform_1(df,column):\n",
    "    \n",
    "    \"\"\"Returning Log Transformation of dataframe column\"\"\"\n",
    "    return np.log1p(df[''+column+''])\n",
    "def drop_site_0(df):\n",
    "    \n",
    "    \"\"\"Dropping inconsistent columns mentioned in the discussion\"\"\"\n",
    "    df = df[(df.timestamp >= 3378) | (df.site_id != 0) | (df.meter != 0)]\n",
    "def add_time_stamp_cols(df,time_stamp_col):\n",
    "    \n",
    "    \"\"\"Adding time stamp columns\"\"\"\n",
    "    \n",
    "    df[''+time_stamp_col+'']=pd.to_datetime(df[''+time_stamp_col+''],format=\"%Y-%m-%d %H:%M:%S\")\n",
    "    df[\"hour\"] = df[''+time_stamp_col+''].dt.hour\n",
    "    df[\"weekend\"] = df[''+time_stamp_col+''].dt.weekday\n",
    "    \n",
    "def add_new_features(df):\n",
    "    \n",
    "    \"\"\"Adding Timestamp features, removing outliers and label encoding the primary_use column\"\"\"\n",
    "    \n",
    "    df['timestamp']=pd.to_datetime(df['timestamp'])\n",
    "    \n",
    "    df.timestamp = (df.timestamp - pd.to_datetime(\"2016-01-01\")).dt.total_seconds() // 3600\n",
    "    \n",
    "    df.assign(tm_day_of_week=((df.timestamp // 24) % 7), tm_hour_of_day=(df.timestamp % 24))\n",
    "    \n",
    "    drop_site_0(df)\n",
    "    \n",
    "    # Sort by timestamp\n",
    "    df.sort_values(\"timestamp\")\n",
    "    df.reset_index(drop=True)\n",
    "    \n",
    "    add_time_stamp_cols(df,\"timestamp\")\n",
    "    \n",
    "    log_transform(df,'square_feet')\n",
    "    \n",
    "     #Dropping electrical zeros\n",
    "    df = df[(df[\"meter_reading\"] > 0) | (df.meter != 0)]\n",
    "    \n",
    "    # Remove Unused Columns\n",
    "    drop = [\"timestamp\",\"sea_level_pressure\", \"wind_direction\", \"wind_speed\",\"year_built\",\"floor_count\"]\n",
    "    df = df.drop(drop, axis=1)\n",
    "    gc.collect()\n",
    "    \n",
    "    # Encode Categorical Data\n",
    "    label_encoding(df,\"primary_use\")\n",
    "    \n",
    "    return df\n"
   ]
  },
  {
   "cell_type": "code",
   "execution_count": 29,
   "id": "6470ee6b",
   "metadata": {},
   "outputs": [],
   "source": [
    "train_new = train"
   ]
  },
  {
   "cell_type": "code",
   "execution_count": 30,
   "id": "cfa1555d",
   "metadata": {},
   "outputs": [],
   "source": [
    "featured = add_new_features(train_new)\n"
   ]
  },
  {
   "cell_type": "code",
   "execution_count": 31,
   "id": "cd39f196",
   "metadata": {},
   "outputs": [
    {
     "data": {
      "text/html": [
       "<div>\n",
       "<style scoped>\n",
       "    .dataframe tbody tr th:only-of-type {\n",
       "        vertical-align: middle;\n",
       "    }\n",
       "\n",
       "    .dataframe tbody tr th {\n",
       "        vertical-align: top;\n",
       "    }\n",
       "\n",
       "    .dataframe thead th {\n",
       "        text-align: right;\n",
       "    }\n",
       "</style>\n",
       "<table border=\"1\" class=\"dataframe\">\n",
       "  <thead>\n",
       "    <tr style=\"text-align: right;\">\n",
       "      <th></th>\n",
       "      <th>building_id</th>\n",
       "      <th>meter</th>\n",
       "      <th>meter_reading</th>\n",
       "      <th>site_id</th>\n",
       "      <th>primary_use</th>\n",
       "      <th>square_feet</th>\n",
       "      <th>air_temperature</th>\n",
       "      <th>cloud_coverage</th>\n",
       "      <th>dew_temperature</th>\n",
       "      <th>precip_depth_1_hr</th>\n",
       "      <th>hour</th>\n",
       "      <th>weekend</th>\n",
       "    </tr>\n",
       "  </thead>\n",
       "  <tbody>\n",
       "    <tr>\n",
       "      <th>0</th>\n",
       "      <td>105</td>\n",
       "      <td>0</td>\n",
       "      <td>23.3036</td>\n",
       "      <td>1</td>\n",
       "      <td>0</td>\n",
       "      <td>10.832181</td>\n",
       "      <td>3.8</td>\n",
       "      <td>0.0</td>\n",
       "      <td>2.4</td>\n",
       "      <td>0.0</td>\n",
       "      <td>0</td>\n",
       "      <td>3</td>\n",
       "    </tr>\n",
       "    <tr>\n",
       "      <th>1</th>\n",
       "      <td>106</td>\n",
       "      <td>3</td>\n",
       "      <td>0.0000</td>\n",
       "      <td>1</td>\n",
       "      <td>0</td>\n",
       "      <td>8.589514</td>\n",
       "      <td>3.8</td>\n",
       "      <td>0.0</td>\n",
       "      <td>2.4</td>\n",
       "      <td>0.0</td>\n",
       "      <td>0</td>\n",
       "      <td>3</td>\n",
       "    </tr>\n",
       "    <tr>\n",
       "      <th>2</th>\n",
       "      <td>108</td>\n",
       "      <td>0</td>\n",
       "      <td>91.2653</td>\n",
       "      <td>1</td>\n",
       "      <td>0</td>\n",
       "      <td>11.309352</td>\n",
       "      <td>3.8</td>\n",
       "      <td>0.0</td>\n",
       "      <td>2.4</td>\n",
       "      <td>0.0</td>\n",
       "      <td>0</td>\n",
       "      <td>3</td>\n",
       "    </tr>\n",
       "    <tr>\n",
       "      <th>3</th>\n",
       "      <td>109</td>\n",
       "      <td>0</td>\n",
       "      <td>80.9300</td>\n",
       "      <td>1</td>\n",
       "      <td>0</td>\n",
       "      <td>10.950736</td>\n",
       "      <td>3.8</td>\n",
       "      <td>0.0</td>\n",
       "      <td>2.4</td>\n",
       "      <td>0.0</td>\n",
       "      <td>0</td>\n",
       "      <td>3</td>\n",
       "    </tr>\n",
       "    <tr>\n",
       "      <th>4</th>\n",
       "      <td>109</td>\n",
       "      <td>3</td>\n",
       "      <td>0.0000</td>\n",
       "      <td>1</td>\n",
       "      <td>0</td>\n",
       "      <td>10.950736</td>\n",
       "      <td>3.8</td>\n",
       "      <td>0.0</td>\n",
       "      <td>2.4</td>\n",
       "      <td>0.0</td>\n",
       "      <td>0</td>\n",
       "      <td>3</td>\n",
       "    </tr>\n",
       "  </tbody>\n",
       "</table>\n",
       "</div>"
      ],
      "text/plain": [
       "   building_id  meter  meter_reading  site_id  primary_use  square_feet  \\\n",
       "0          105      0        23.3036        1            0    10.832181   \n",
       "1          106      3         0.0000        1            0     8.589514   \n",
       "2          108      0        91.2653        1            0    11.309352   \n",
       "3          109      0        80.9300        1            0    10.950736   \n",
       "4          109      3         0.0000        1            0    10.950736   \n",
       "\n",
       "   air_temperature  cloud_coverage  dew_temperature  precip_depth_1_hr  hour  \\\n",
       "0              3.8             0.0              2.4                0.0     0   \n",
       "1              3.8             0.0              2.4                0.0     0   \n",
       "2              3.8             0.0              2.4                0.0     0   \n",
       "3              3.8             0.0              2.4                0.0     0   \n",
       "4              3.8             0.0              2.4                0.0     0   \n",
       "\n",
       "   weekend  \n",
       "0        3  \n",
       "1        3  \n",
       "2        3  \n",
       "3        3  \n",
       "4        3  "
      ]
     },
     "execution_count": 31,
     "metadata": {},
     "output_type": "execute_result"
    }
   ],
   "source": [
    "featured.head()\n"
   ]
  },
  {
   "cell_type": "code",
   "execution_count": 32,
   "id": "7cf43216",
   "metadata": {},
   "outputs": [],
   "source": [
    "\n",
    "target=log_transform_1(featured,\"meter_reading\")\n",
    "\n",
    "features = featured.drop('meter_reading', axis = 1)\n"
   ]
  },
  {
   "cell_type": "code",
   "execution_count": 33,
   "id": "5995dbe5",
   "metadata": {
    "scrolled": false
   },
   "outputs": [
    {
     "name": "stderr",
     "output_type": "stream",
     "text": [
      "C:\\Users\\sweth\\AppData\\Local\\Temp\\ipykernel_22272\\191372574.py:1: FutureWarning: \n",
      "\n",
      "`shade` is now deprecated in favor of `fill`; setting `fill=True`.\n",
      "This will become an error in seaborn v0.14.0; please update your code.\n",
      "\n",
      "  sns.kdeplot(target, shade=True)\n"
     ]
    },
    {
     "data": {
      "text/plain": [
       "<Axes: xlabel='meter_reading', ylabel='Density'>"
      ]
     },
     "execution_count": 33,
     "metadata": {},
     "output_type": "execute_result"
    },
    {
     "data": {
      "image/png": "[encoded data removed]",
      "text/plain": [
       "<Figure size 640x480 with 1 Axes>"
      ]
     },
     "metadata": {},
     "output_type": "display_data"
    }
   ],
   "source": [
    "sns.kdeplot(target, shade=True)"
   ]
  },
  {
   "cell_type": "code",
   "execution_count": 34,
   "id": "39e50ad6",
   "metadata": {},
   "outputs": [
    {
     "data": {
      "text/html": [
       "<div>\n",
       "<style scoped>\n",
       "    .dataframe tbody tr th:only-of-type {\n",
       "        vertical-align: middle;\n",
       "    }\n",
       "\n",
       "    .dataframe tbody tr th {\n",
       "        vertical-align: top;\n",
       "    }\n",
       "\n",
       "    .dataframe thead th {\n",
       "        text-align: right;\n",
       "    }\n",
       "</style>\n",
       "<table border=\"1\" class=\"dataframe\">\n",
       "  <thead>\n",
       "    <tr style=\"text-align: right;\">\n",
       "      <th></th>\n",
       "      <th>building_id</th>\n",
       "      <th>meter</th>\n",
       "      <th>site_id</th>\n",
       "      <th>primary_use</th>\n",
       "      <th>square_feet</th>\n",
       "      <th>air_temperature</th>\n",
       "      <th>cloud_coverage</th>\n",
       "      <th>dew_temperature</th>\n",
       "      <th>precip_depth_1_hr</th>\n",
       "      <th>hour</th>\n",
       "      <th>weekend</th>\n",
       "    </tr>\n",
       "  </thead>\n",
       "  <tbody>\n",
       "    <tr>\n",
       "      <th>0</th>\n",
       "      <td>105</td>\n",
       "      <td>0</td>\n",
       "      <td>1</td>\n",
       "      <td>0</td>\n",
       "      <td>10.832181</td>\n",
       "      <td>3.8</td>\n",
       "      <td>0.000000</td>\n",
       "      <td>2.4</td>\n",
       "      <td>0.0</td>\n",
       "      <td>0</td>\n",
       "      <td>3</td>\n",
       "    </tr>\n",
       "    <tr>\n",
       "      <th>1</th>\n",
       "      <td>106</td>\n",
       "      <td>3</td>\n",
       "      <td>1</td>\n",
       "      <td>0</td>\n",
       "      <td>8.589514</td>\n",
       "      <td>3.8</td>\n",
       "      <td>0.000000</td>\n",
       "      <td>2.4</td>\n",
       "      <td>0.0</td>\n",
       "      <td>0</td>\n",
       "      <td>3</td>\n",
       "    </tr>\n",
       "    <tr>\n",
       "      <th>2</th>\n",
       "      <td>108</td>\n",
       "      <td>0</td>\n",
       "      <td>1</td>\n",
       "      <td>0</td>\n",
       "      <td>11.309352</td>\n",
       "      <td>3.8</td>\n",
       "      <td>0.000000</td>\n",
       "      <td>2.4</td>\n",
       "      <td>0.0</td>\n",
       "      <td>0</td>\n",
       "      <td>3</td>\n",
       "    </tr>\n",
       "    <tr>\n",
       "      <th>3</th>\n",
       "      <td>109</td>\n",
       "      <td>0</td>\n",
       "      <td>1</td>\n",
       "      <td>0</td>\n",
       "      <td>10.950736</td>\n",
       "      <td>3.8</td>\n",
       "      <td>0.000000</td>\n",
       "      <td>2.4</td>\n",
       "      <td>0.0</td>\n",
       "      <td>0</td>\n",
       "      <td>3</td>\n",
       "    </tr>\n",
       "    <tr>\n",
       "      <th>4</th>\n",
       "      <td>109</td>\n",
       "      <td>3</td>\n",
       "      <td>1</td>\n",
       "      <td>0</td>\n",
       "      <td>10.950736</td>\n",
       "      <td>3.8</td>\n",
       "      <td>0.000000</td>\n",
       "      <td>2.4</td>\n",
       "      <td>0.0</td>\n",
       "      <td>0</td>\n",
       "      <td>3</td>\n",
       "    </tr>\n",
       "    <tr>\n",
       "      <th>...</th>\n",
       "      <td>...</td>\n",
       "      <td>...</td>\n",
       "      <td>...</td>\n",
       "      <td>...</td>\n",
       "      <td>...</td>\n",
       "      <td>...</td>\n",
       "      <td>...</td>\n",
       "      <td>...</td>\n",
       "      <td>...</td>\n",
       "      <td>...</td>\n",
       "      <td>...</td>\n",
       "    </tr>\n",
       "    <tr>\n",
       "      <th>10153</th>\n",
       "      <td>1137</td>\n",
       "      <td>1</td>\n",
       "      <td>13</td>\n",
       "      <td>6</td>\n",
       "      <td>10.220231</td>\n",
       "      <td>-7.2</td>\n",
       "      <td>2.666667</td>\n",
       "      <td>-10.6</td>\n",
       "      <td>0.0</td>\n",
       "      <td>0</td>\n",
       "      <td>3</td>\n",
       "    </tr>\n",
       "    <tr>\n",
       "      <th>10154</th>\n",
       "      <td>1138</td>\n",
       "      <td>0</td>\n",
       "      <td>13</td>\n",
       "      <td>0</td>\n",
       "      <td>10.596360</td>\n",
       "      <td>-7.2</td>\n",
       "      <td>2.666667</td>\n",
       "      <td>-10.6</td>\n",
       "      <td>0.0</td>\n",
       "      <td>0</td>\n",
       "      <td>3</td>\n",
       "    </tr>\n",
       "    <tr>\n",
       "      <th>10155</th>\n",
       "      <td>1139</td>\n",
       "      <td>0</td>\n",
       "      <td>13</td>\n",
       "      <td>6</td>\n",
       "      <td>12.726802</td>\n",
       "      <td>-7.2</td>\n",
       "      <td>2.666667</td>\n",
       "      <td>-10.6</td>\n",
       "      <td>0.0</td>\n",
       "      <td>0</td>\n",
       "      <td>3</td>\n",
       "    </tr>\n",
       "    <tr>\n",
       "      <th>10156</th>\n",
       "      <td>1139</td>\n",
       "      <td>1</td>\n",
       "      <td>13</td>\n",
       "      <td>6</td>\n",
       "      <td>12.726802</td>\n",
       "      <td>-7.2</td>\n",
       "      <td>2.666667</td>\n",
       "      <td>-10.6</td>\n",
       "      <td>0.0</td>\n",
       "      <td>0</td>\n",
       "      <td>3</td>\n",
       "    </tr>\n",
       "    <tr>\n",
       "      <th>10157</th>\n",
       "      <td>1139</td>\n",
       "      <td>2</td>\n",
       "      <td>13</td>\n",
       "      <td>6</td>\n",
       "      <td>12.726802</td>\n",
       "      <td>-7.2</td>\n",
       "      <td>2.666667</td>\n",
       "      <td>-10.6</td>\n",
       "      <td>0.0</td>\n",
       "      <td>0</td>\n",
       "      <td>3</td>\n",
       "    </tr>\n",
       "  </tbody>\n",
       "</table>\n",
       "<p>10000 rows × 11 columns</p>\n",
       "</div>"
      ],
      "text/plain": [
       "       building_id  meter  site_id  primary_use  square_feet  air_temperature  \\\n",
       "0              105      0        1            0    10.832181              3.8   \n",
       "1              106      3        1            0     8.589514              3.8   \n",
       "2              108      0        1            0    11.309352              3.8   \n",
       "3              109      0        1            0    10.950736              3.8   \n",
       "4              109      3        1            0    10.950736              3.8   \n",
       "...            ...    ...      ...          ...          ...              ...   \n",
       "10153         1137      1       13            6    10.220231             -7.2   \n",
       "10154         1138      0       13            0    10.596360             -7.2   \n",
       "10155         1139      0       13            6    12.726802             -7.2   \n",
       "10156         1139      1       13            6    12.726802             -7.2   \n",
       "10157         1139      2       13            6    12.726802             -7.2   \n",
       "\n",
       "       cloud_coverage  dew_temperature  precip_depth_1_hr  hour  weekend  \n",
       "0            0.000000              2.4                0.0     0        3  \n",
       "1            0.000000              2.4                0.0     0        3  \n",
       "2            0.000000              2.4                0.0     0        3  \n",
       "3            0.000000              2.4                0.0     0        3  \n",
       "4            0.000000              2.4                0.0     0        3  \n",
       "...               ...              ...                ...   ...      ...  \n",
       "10153        2.666667            -10.6                0.0     0        3  \n",
       "10154        2.666667            -10.6                0.0     0        3  \n",
       "10155        2.666667            -10.6                0.0     0        3  \n",
       "10156        2.666667            -10.6                0.0     0        3  \n",
       "10157        2.666667            -10.6                0.0     0        3  \n",
       "\n",
       "[10000 rows x 11 columns]"
      ]
     },
     "execution_count": 34,
     "metadata": {},
     "output_type": "execute_result"
    }
   ],
   "source": [
    "features.head(10000)\n"
   ]
  },
  {
   "cell_type": "markdown",
   "id": "03de5c06",
   "metadata": {},
   "source": [
    "# LGBM"
   ]
  },
  {
   "cell_type": "code",
   "execution_count": 35,
   "id": "84abc8b1",
   "metadata": {},
   "outputs": [],
   "source": [
    "\n",
    "def LGBM(categorical_features,params,splits,X,y):\n",
    "\n",
    "    kf = KFold(n_splits=splits)\n",
    "    models = []\n",
    "    for train_index,test_index in kf.split(X):\n",
    "        train_features = X.iloc[train_index]\n",
    "        train_target = y.iloc[train_index]\n",
    "        \n",
    "        test_features = X.iloc[test_index]\n",
    "        test_target = y.iloc[test_index]\n",
    "        \n",
    "        d_training = lgb.Dataset(train_features, label=train_target,categorical_feature=categorical_features)\n",
    "        d_test = lgb.Dataset(test_features, label=test_target,categorical_feature=categorical_features)\n",
    "        \n",
    "        model = lgb.train(params, train_set=d_training, num_boost_round=1000, valid_sets=[d_training,d_test], verbose_eval=25, early_stopping_rounds=50)\n",
    "        models.append(model)\n",
    "        \n",
    "        del train_features, train_target, test_features, test_target, d_training, d_test\n",
    "        \n",
    "        gc.collect()\n",
    "    return models"
   ]
  },
  {
   "cell_type": "code",
   "execution_count": 36,
   "id": "1dd6fae6",
   "metadata": {},
   "outputs": [
    {
     "name": "stderr",
     "output_type": "stream",
     "text": [
      "C:\\Users\\sweth\\anaconda3\\lib\\site-packages\\lightgbm\\engine.py:181: UserWarning: 'early_stopping_rounds' argument is deprecated and will be removed in a future release of LightGBM. Pass 'early_stopping()' callback via 'callbacks' argument instead.\n",
      "  _log_warning(\"'early_stopping_rounds' argument is deprecated and will be removed in a future release of LightGBM. \"\n",
      "C:\\Users\\sweth\\anaconda3\\lib\\site-packages\\lightgbm\\basic.py:2065: UserWarning: Using categorical_feature in Dataset.\n",
      "  _log_warning('Using categorical_feature in Dataset.')\n",
      "C:\\Users\\sweth\\anaconda3\\lib\\site-packages\\lightgbm\\engine.py:239: UserWarning: 'verbose_eval' argument is deprecated and will be removed in a future release of LightGBM. Pass 'log_evaluation()' callback via 'callbacks' argument instead.\n",
      "  _log_warning(\"'verbose_eval' argument is deprecated and will be removed in a future release of LightGBM. \"\n"
     ]
    },
    {
     "name": "stdout",
     "output_type": "stream",
     "text": [
      "[LightGBM] [Warning] Auto-choosing row-wise multi-threading, the overhead of testing was 0.445062 seconds.\n",
      "You can set `force_row_wise=true` to remove the overhead.\n",
      "And if memory is not enough, you can set `force_col_wise=true`.\n",
      "[LightGBM] [Info] Total Bins 2547\n",
      "[LightGBM] [Info] Number of data points in the train set: 12932826, number of used features: 10\n"
     ]
    },
    {
     "name": "stderr",
     "output_type": "stream",
     "text": [
      "C:\\Users\\sweth\\anaconda3\\lib\\site-packages\\lightgbm\\basic.py:1780: UserWarning: Overriding the parameters from Reference Dataset.\n",
      "  _log_warning('Overriding the parameters from Reference Dataset.')\n",
      "C:\\Users\\sweth\\anaconda3\\lib\\site-packages\\lightgbm\\basic.py:1513: UserWarning: categorical_column in param dict is overridden.\n",
      "  _log_warning(f'{cat_alias} in param dict is overridden.')\n"
     ]
    },
    {
     "name": "stdout",
     "output_type": "stream",
     "text": [
      "[LightGBM] [Info] Start training from score 4.317472\n",
      "Training until validation scores don't improve for 50 rounds\n",
      "[25]\ttraining's rmse: 0.991747\tvalid_1's rmse: 1.14251\n",
      "[50]\ttraining's rmse: 0.819946\tvalid_1's rmse: 1.03007\n",
      "[75]\ttraining's rmse: 0.788448\tvalid_1's rmse: 1.02376\n",
      "[100]\ttraining's rmse: 0.773038\tvalid_1's rmse: 1.02608\n",
      "[125]\ttraining's rmse: 0.761518\tvalid_1's rmse: 1.02853\n",
      "Early stopping, best iteration is:\n",
      "[79]\ttraining's rmse: 0.78497\tvalid_1's rmse: 1.0236\n"
     ]
    },
    {
     "name": "stderr",
     "output_type": "stream",
     "text": [
      "C:\\Users\\sweth\\anaconda3\\lib\\site-packages\\lightgbm\\engine.py:181: UserWarning: 'early_stopping_rounds' argument is deprecated and will be removed in a future release of LightGBM. Pass 'early_stopping()' callback via 'callbacks' argument instead.\n",
      "  _log_warning(\"'early_stopping_rounds' argument is deprecated and will be removed in a future release of LightGBM. \"\n",
      "C:\\Users\\sweth\\anaconda3\\lib\\site-packages\\lightgbm\\basic.py:2065: UserWarning: Using categorical_feature in Dataset.\n",
      "  _log_warning('Using categorical_feature in Dataset.')\n",
      "C:\\Users\\sweth\\anaconda3\\lib\\site-packages\\lightgbm\\engine.py:239: UserWarning: 'verbose_eval' argument is deprecated and will be removed in a future release of LightGBM. Pass 'log_evaluation()' callback via 'callbacks' argument instead.\n",
      "  _log_warning(\"'verbose_eval' argument is deprecated and will be removed in a future release of LightGBM. \"\n"
     ]
    },
    {
     "name": "stdout",
     "output_type": "stream",
     "text": [
      "[LightGBM] [Warning] Auto-choosing row-wise multi-threading, the overhead of testing was 0.142277 seconds.\n",
      "You can set `force_row_wise=true` to remove the overhead.\n",
      "And if memory is not enough, you can set `force_col_wise=true`.\n",
      "[LightGBM] [Info] Total Bins 2543\n",
      "[LightGBM] [Info] Number of data points in the train set: 12932826, number of used features: 10\n"
     ]
    },
    {
     "name": "stderr",
     "output_type": "stream",
     "text": [
      "C:\\Users\\sweth\\anaconda3\\lib\\site-packages\\lightgbm\\basic.py:1780: UserWarning: Overriding the parameters from Reference Dataset.\n",
      "  _log_warning('Overriding the parameters from Reference Dataset.')\n",
      "C:\\Users\\sweth\\anaconda3\\lib\\site-packages\\lightgbm\\basic.py:1513: UserWarning: categorical_column in param dict is overridden.\n",
      "  _log_warning(f'{cat_alias} in param dict is overridden.')\n"
     ]
    },
    {
     "name": "stdout",
     "output_type": "stream",
     "text": [
      "[LightGBM] [Info] Start training from score 4.243165\n",
      "Training until validation scores don't improve for 50 rounds\n",
      "[25]\ttraining's rmse: 1.01437\tvalid_1's rmse: 1.08758\n",
      "[50]\ttraining's rmse: 0.844201\tvalid_1's rmse: 0.955466\n",
      "[75]\ttraining's rmse: 0.813335\tvalid_1's rmse: 0.938941\n",
      "[100]\ttraining's rmse: 0.797899\tvalid_1's rmse: 0.934781\n",
      "[125]\ttraining's rmse: 0.786368\tvalid_1's rmse: 0.934278\n",
      "[150]\ttraining's rmse: 0.777542\tvalid_1's rmse: 0.934686\n",
      "Early stopping, best iteration is:\n",
      "[118]\ttraining's rmse: 0.789767\tvalid_1's rmse: 0.934177\n"
     ]
    },
    {
     "name": "stderr",
     "output_type": "stream",
     "text": [
      "C:\\Users\\sweth\\anaconda3\\lib\\site-packages\\lightgbm\\engine.py:181: UserWarning: 'early_stopping_rounds' argument is deprecated and will be removed in a future release of LightGBM. Pass 'early_stopping()' callback via 'callbacks' argument instead.\n",
      "  _log_warning(\"'early_stopping_rounds' argument is deprecated and will be removed in a future release of LightGBM. \"\n",
      "C:\\Users\\sweth\\anaconda3\\lib\\site-packages\\lightgbm\\basic.py:2065: UserWarning: Using categorical_feature in Dataset.\n",
      "  _log_warning('Using categorical_feature in Dataset.')\n",
      "C:\\Users\\sweth\\anaconda3\\lib\\site-packages\\lightgbm\\engine.py:239: UserWarning: 'verbose_eval' argument is deprecated and will be removed in a future release of LightGBM. Pass 'log_evaluation()' callback via 'callbacks' argument instead.\n",
      "  _log_warning(\"'verbose_eval' argument is deprecated and will be removed in a future release of LightGBM. \"\n"
     ]
    },
    {
     "name": "stdout",
     "output_type": "stream",
     "text": [
      "[LightGBM] [Warning] Auto-choosing row-wise multi-threading, the overhead of testing was 0.204361 seconds.\n",
      "You can set `force_row_wise=true` to remove the overhead.\n",
      "And if memory is not enough, you can set `force_col_wise=true`.\n",
      "[LightGBM] [Info] Total Bins 2530\n",
      "[LightGBM] [Info] Number of data points in the train set: 12932826, number of used features: 10\n"
     ]
    },
    {
     "name": "stderr",
     "output_type": "stream",
     "text": [
      "C:\\Users\\sweth\\anaconda3\\lib\\site-packages\\lightgbm\\basic.py:1780: UserWarning: Overriding the parameters from Reference Dataset.\n",
      "  _log_warning('Overriding the parameters from Reference Dataset.')\n",
      "C:\\Users\\sweth\\anaconda3\\lib\\site-packages\\lightgbm\\basic.py:1513: UserWarning: categorical_column in param dict is overridden.\n",
      "  _log_warning(f'{cat_alias} in param dict is overridden.')\n"
     ]
    },
    {
     "name": "stdout",
     "output_type": "stream",
     "text": [
      "[LightGBM] [Info] Start training from score 4.278799\n",
      "Training until validation scores don't improve for 50 rounds\n",
      "[25]\ttraining's rmse: 0.992898\tvalid_1's rmse: 1.11688\n",
      "[50]\ttraining's rmse: 0.810465\tvalid_1's rmse: 1.00923\n",
      "[75]\ttraining's rmse: 0.775236\tvalid_1's rmse: 1.00483\n",
      "[100]\ttraining's rmse: 0.758379\tvalid_1's rmse: 1.00822\n",
      "Early stopping, best iteration is:\n",
      "[66]\ttraining's rmse: 0.78384\tvalid_1's rmse: 1.00464\n"
     ]
    }
   ],
   "source": [
    "categorical_features = [\"building_id\", \"site_id\", \"meter\", \"primary_use\", \"weekend\"]\n",
    "\n",
    "params = {\n",
    "    \"objective\": \"regression\",\n",
    "    \"boosting\": \"gbdt\",\n",
    "     \"num_leaves\": 1280,\n",
    "    \"learning_rate\": 0.05,\n",
    "     \"feature_fraction\": 0.85,\n",
    "     \"reg_lambda\": 2,\n",
    "    \"metric\": \"rmse\",\n",
    "}\n",
    "\n",
    "model_LGBM=LGBM(categorical_features,params,3,features,target)"
   ]
  },
  {
   "cell_type": "code",
   "execution_count": 37,
   "id": "d60403a2",
   "metadata": {},
   "outputs": [
    {
     "data": {
      "image/png": "[encoded data removed]",
      "text/plain": [
       "<Figure size 640x480 with 1 Axes>"
      ]
     },
     "metadata": {},
     "output_type": "display_data"
    },
    {
     "data": {
      "image/png": "[encoded data removed]",
      "text/plain": [
       "<Figure size 640x480 with 1 Axes>"
      ]
     },
     "metadata": {},
     "output_type": "display_data"
    },
    {
     "data": {
      "image/png": "[encoded data removed]",
      "text/plain": [
       "<Figure size 640x480 with 1 Axes>"
      ]
     },
     "metadata": {},
     "output_type": "display_data"
    }
   ],
   "source": [
    "for model in model_LGBM:\n",
    "    lgb.plot_importance(model)\n",
    "    plt.show()"
   ]
  },
  {
   "cell_type": "code",
   "execution_count": 40,
   "id": "88006c84",
   "metadata": {},
   "outputs": [],
   "source": [
    "X_train, X_test, y_train, y_test = train_test_split(features, target, test_size=0.2)"
   ]
  },
  {
   "cell_type": "markdown",
   "id": "94bd5cb3",
   "metadata": {},
   "source": [
    "# Halving Grid Search for best parameters\n",
    "\n"
   ]
  },
  {
   "cell_type": "markdown",
   "id": "fbf615a2",
   "metadata": {},
   "source": [
    "# Bayesian Optimization"
   ]
  },
  {
   "cell_type": "code",
   "execution_count": null,
   "id": "ce83f012",
   "metadata": {},
   "outputs": [],
   "source": [
    "!conda install -c conda-forge scikit-optimize\n",
    "from skopt import BayesSearchCV\n",
    "\n",
    "search = BayesSearchCV(model, parameters, n_jobs=5)\n",
    "search.fit(X_train,y_train)\n",
    "\n",
    "print(search.best_params_)\n"
   ]
  },
  {
   "cell_type": "code",
   "execution_count": 41,
   "id": "99443ea5",
   "metadata": {},
   "outputs": [
    {
     "name": "stderr",
     "output_type": "stream",
     "text": [
      "<timed exec>:3: DeprecationWarning: elementwise comparison failed; this will raise an error in the future.\n",
      "<timed exec>:3: DeprecationWarning: elementwise comparison failed; this will raise an error in the future.\n"
     ]
    },
    {
     "name": "stdout",
     "output_type": "stream",
     "text": [
      "CPU times: total: 10min 51s\n",
      "Wall time: 1min 44s\n"
     ]
    }
   ],
   "source": [
    "%%time\n",
    "results = []\n",
    "for model in model_LGBM:\n",
    "    if  results == []:\n",
    "        results = model.predict(X_test, num_iteration=model.best_iteration) / len(model_LGBM)\n",
    "    else:\n",
    "        results += model.predict(X_test, num_iteration=model.best_iteration) / len(model_LGBM)\n",
    "    del model"
   ]
  },
  {
   "cell_type": "markdown",
   "id": "f45b6cdd",
   "metadata": {},
   "source": [
    "   ##   Linear Regression"
   ]
  },
  {
   "cell_type": "code",
   "execution_count": 42,
   "id": "cc63a7cf",
   "metadata": {},
   "outputs": [],
   "source": [
    "def LinearRegression(X_train,y_train):\n",
    "    \n",
    "    \"\"\"Implementing Linear Regression Algorithm\"\"\"\n",
    "    \n",
    "    from sklearn import linear_model\n",
    "    mod = linear_model.LinearRegression()\n",
    "    mod.fit(X_train, y_train)\n",
    "    return mod"
   ]
  },
  {
   "cell_type": "markdown",
   "id": "f1e14e5f",
   "metadata": {},
   "source": [
    "##  CatBoost\n"
   ]
  },
  {
   "cell_type": "code",
   "execution_count": 43,
   "id": "c8371fd3",
   "metadata": {},
   "outputs": [],
   "source": [
    "def CatBoost(X_train,y_train,categorical_features,num_iters,learning_rate,n_depth):\n",
    "    \n",
    "    \"\"\"Implementing CatBoost Algorithm with learning_rate,depth of tree, \n",
    "    categorical features and number of iterations as parameters\"\"\"\n",
    "    \n",
    "    from sklearn.metrics import mean_squared_log_error\n",
    "    from sklearn.metrics import mean_squared_error\n",
    "    import catboost as cb\n",
    "    from catboost import CatBoostRegressor\n",
    "\n",
    "\n",
    "    model=CatBoostRegressor(iterations=num_iters, \n",
    "                        depth=n_depth, learning_rate=learning_rate, \n",
    "                        loss_function='RMSE')\n",
    "    \n",
    "   \n",
    "    model.fit(X_train, y_train,cat_features=categorical_features)\n",
    "    \n",
    "    return model\n"
   ]
  },
  {
   "cell_type": "code",
   "execution_count": 44,
   "id": "f1b9dbb4",
   "metadata": {
    "scrolled": true
   },
   "outputs": [
    {
     "name": "stdout",
     "output_type": "stream",
     "text": [
      "0:\tlearn: 2.0153401\ttotal: 8.41s\tremaining: 1m 15s\n",
      "1:\tlearn: 1.9805946\ttotal: 12.5s\tremaining: 50.2s\n",
      "2:\tlearn: 1.9487174\ttotal: 15s\tremaining: 35s\n",
      "3:\tlearn: 1.9194244\ttotal: 16.6s\tremaining: 24.9s\n",
      "4:\tlearn: 1.8921354\ttotal: 19s\tremaining: 19s\n",
      "5:\tlearn: 1.8668415\ttotal: 20.6s\tremaining: 13.7s\n",
      "6:\tlearn: 1.8440239\ttotal: 22.2s\tremaining: 9.51s\n",
      "7:\tlearn: 1.8227965\ttotal: 23.9s\tremaining: 5.98s\n",
      "8:\tlearn: 1.8028509\ttotal: 25.5s\tremaining: 2.83s\n",
      "9:\tlearn: 1.7845245\ttotal: 27.1s\tremaining: 0us\n"
     ]
    }
   ],
   "source": [
    "categorical_features = [\"building_id\", \"site_id\", \"meter\", \"primary_use\", \"weekend\"]\n",
    "\n",
    "cat_model=CatBoost(X_train,y_train,categorical_features,10,0.05,3)"
   ]
  },
  {
   "cell_type": "markdown",
   "id": "54ce07f1",
   "metadata": {},
   "source": [
    "# XGBoost"
   ]
  },
  {
   "cell_type": "code",
   "execution_count": 45,
   "id": "3f0c58de",
   "metadata": {},
   "outputs": [],
   "source": [
    "def XGBoost(X_train,y_train,X_test,y_test,pars,Early_stopping_rounds):\n",
    "    \n",
    "    \"\"\"Implementing XGBoost Algorithm with parameters and Early stop rounds as parameters\"\"\"\n",
    "    \n",
    "    import xgboost as xgb\n",
    "    xgb_train = xgb.DMatrix(X_train, y_train)\n",
    "    xgb_eval = xgb.DMatrix(X_test, y_test)\n",
    "\n",
    "\n",
    "    model = xgb.train(pars,\n",
    "                      xgb_train,\n",
    "                      num_boost_round=50,\n",
    "                      evals=[(xgb_train, 'train'), (xgb_eval, 'val')],\n",
    "                      verbose_eval=5,\n",
    "                      early_stopping_rounds=Early_stopping_rounds\n",
    "                     )\n",
    "    return model\n"
   ]
  },
  {
   "cell_type": "code",
   "execution_count": 46,
   "id": "48f3f254",
   "metadata": {},
   "outputs": [
    {
     "name": "stdout",
     "output_type": "stream",
     "text": [
      "[0]\ttrain-rmse:3.93711\tval-rmse:3.93737\n",
      "[5]\ttrain-rmse:2.69302\tval-rmse:2.69316\n",
      "[10]\ttrain-rmse:2.04233\tval-rmse:2.04247\n",
      "[15]\ttrain-rmse:1.73557\tval-rmse:1.73569\n",
      "[20]\ttrain-rmse:1.57839\tval-rmse:1.57861\n",
      "[25]\ttrain-rmse:1.50031\tval-rmse:1.50051\n",
      "[30]\ttrain-rmse:1.44150\tval-rmse:1.44161\n",
      "[35]\ttrain-rmse:1.41754\tval-rmse:1.41768\n",
      "[40]\ttrain-rmse:1.39452\tval-rmse:1.39462\n",
      "[45]\ttrain-rmse:1.37067\tval-rmse:1.37075\n",
      "[49]\ttrain-rmse:1.35274\tval-rmse:1.35276\n"
     ]
    }
   ],
   "source": [
    "pars = {\n",
    "    'colsample_bytree': 0.8,                 \n",
    "    'learning_rate': 0.1,\n",
    "    'max_depth': 5,\n",
    "    'subsample': 0.8,\n",
    "    'objective': 'reg:squarederror',\n",
    "}\n",
    "XGB_model=XGBoost(X_train,y_train,X_test,y_test,pars,5)"
   ]
  },
  {
   "cell_type": "markdown",
   "id": "3704da9f",
   "metadata": {},
   "source": [
    "# RESULTS"
   ]
  },
  {
   "cell_type": "code",
   "execution_count": 47,
   "id": "0fd859ab",
   "metadata": {},
   "outputs": [],
   "source": [
    "def all_results(test,pred):\n",
    "    \n",
    "    \"\"\"This Method has all results with Mean Absolute Error, Root Mean Square Log Error \n",
    "    and Root Mean Squared Error\"\"\"\n",
    "    \n",
    "    test=np.abs(test)\n",
    "    test=np.expm1(test)\n",
    "    pred=np.abs(pred)\n",
    "    pred=np.expm1(pred)\n",
    "    \n",
    "    step1=pred-test\n",
    "    step2=np.power(step1,2).mean()\n",
    "    step3_rmse=np.sqrt(step2)\n",
    "    \n",
    "\n",
    "    step1=np.array(test)-np.array(pred)\n",
    "    step2=step1.mean()\n",
    "    step3_mae=np.abs(step2)\n",
    "\n",
    "    print(f'Root Mean Squared Loss Error is: {np.sqrt(mean_squared_log_error(test,pred))}')    \n",
    "    print(f'Mean Absolute Error is: {step3_mae}')\n",
    "    print(f'Root Mean Squared Error is: {step3_rmse}')   "
   ]
  },
  {
   "cell_type": "code",
   "execution_count": 48,
   "id": "aba763eb",
   "metadata": {},
   "outputs": [],
   "source": [
    "def post_processing(model,X_train,y_train,X_test,y_test,Algorithm):\n",
    "    \n",
    "    \"\"\"Implemented all post processing from predicting the test and test to printing results\"\"\"\n",
    "\n",
    "    if Algorithm=='XGBoost':\n",
    "        y_pred_train=model.predict(xgb.DMatrix(X_train))\n",
    "        y_pred_test=model.predict(xgb.DMatrix(X_test))\n",
    "        print(\"Train Results for XGBoost Model:\")\n",
    "        print(\"---------------------------------\")\n",
    "        all_results(y_pred_train,y_train)\n",
    "        print(\"---------------------------------\")\n",
    "        print(\"Test Results for XGBoost Model:\")\n",
    "        print(\"---------------------------------\")\n",
    "        all_results(y_pred_test,y_test)\n",
    "        print(\"---------------------------------\")\n",
    "    else:\n",
    "        y_pred_train=model.predict(X_train)\n",
    "        y_pred_test=model.predict(X_test)\n",
    "        print(f\"Train Results for {Algorithm} Model:\")\n",
    "        print(\"---------------------------------\")\n",
    "        all_results(y_pred_train,y_train)\n",
    "        print(\"---------------------------------\")\n",
    "        print(f\"Test Results for {Algorithm} Model:\")\n",
    "        print(\"---------------------------------\")\n",
    "        all_results(y_pred_test,y_test)\n",
    "        print(\"---------------------------------\")\n"
   ]
  },
  {
   "cell_type": "code",
   "execution_count": 49,
   "id": "bd2c104f",
   "metadata": {},
   "outputs": [
    {
     "name": "stdout",
     "output_type": "stream",
     "text": [
      "Train Results for CatBoost Model:\n",
      "---------------------------------\n",
      "Root Mean Squared Loss Error is: 1.7842083469085657\n",
      "Mean Absolute Error is: 398.1112033190449\n",
      "Root Mean Squared Error is: 4396.486154750742\n",
      "---------------------------------\n",
      "Test Results for CatBoost Model:\n",
      "---------------------------------\n",
      "Root Mean Squared Loss Error is: 1.7847991067243556\n",
      "Mean Absolute Error is: 392.7239255307271\n",
      "Root Mean Squared Error is: 4046.4792130090514\n",
      "---------------------------------\n"
     ]
    }
   ],
   "source": [
    "post_processing(cat_model,X_train,y_train,X_test,y_test,Algorithm='CatBoost')"
   ]
  },
  {
   "cell_type": "code",
   "execution_count": 50,
   "id": "504e8270",
   "metadata": {},
   "outputs": [
    {
     "name": "stdout",
     "output_type": "stream",
     "text": [
      "Train Results for Linear Regression Model:\n",
      "---------------------------------\n",
      "Root Mean Squared Loss Error is: 1.7802844288627562\n",
      "Mean Absolute Error is: 369.8518513339789\n",
      "Root Mean Squared Error is: 4388.574623889853\n",
      "---------------------------------\n",
      "Test Results for Linear Regression Model:\n",
      "---------------------------------\n",
      "Root Mean Squared Loss Error is: 1.7814614544648362\n",
      "Mean Absolute Error is: 364.43482416109833\n",
      "Root Mean Squared Error is: 4037.9044928388876\n",
      "---------------------------------\n"
     ]
    }
   ],
   "source": [
    "linear=LinearRegression(X_train,y_train)\n",
    "post_processing(linear,X_train,y_train,X_test,y_test,Algorithm='Linear Regression')"
   ]
  },
  {
   "cell_type": "code",
   "execution_count": 51,
   "id": "b2032f57",
   "metadata": {},
   "outputs": [
    {
     "name": "stdout",
     "output_type": "stream",
     "text": [
      "Train Results for XGBoost Model:\n",
      "---------------------------------\n",
      "Root Mean Squared Loss Error is: 1.3527364558589117\n",
      "Mean Absolute Error is: 312.7104792836382\n",
      "Root Mean Squared Error is: 4293.922707029719\n",
      "---------------------------------\n",
      "Test Results for XGBoost Model:\n",
      "---------------------------------\n",
      "Root Mean Squared Loss Error is: 1.3527601338499917\n",
      "Mean Absolute Error is: 307.2964850938931\n",
      "Root Mean Squared Error is: 3935.7493978325665\n",
      "---------------------------------\n"
     ]
    }
   ],
   "source": [
    "import xgboost as xgb\n",
    "post_processing(XGB_model,X_train,y_train,X_test,y_test,Algorithm='XGBoost')"
   ]
  },
  {
   "cell_type": "markdown",
   "id": "0c6ef555",
   "metadata": {},
   "source": [
    "# PLOT RESULTS"
   ]
  },
  {
   "cell_type": "code",
   "execution_count": 52,
   "id": "a91cb5d9",
   "metadata": {},
   "outputs": [
    {
     "data": {
      "image/png": "[encoded data removed]",
      "text/plain": [
       "<Figure size 640x480 with 1 Axes>"
      ]
     },
     "metadata": {},
     "output_type": "display_data"
    }
   ],
   "source": [
    "import matplotlib.pyplot as plt\n",
    "\n",
    "# Replace these example RMSE values with the actual values for your models\n",
    "CatBoost_rmse = 4229.6\n",
    "XGBoost_rmse = 4134.2\n",
    "LGBM_rmse = 4570.9\n",
    "lineaReg_rmse = 4221.5\n",
    "\n",
    "# Data for the bar chart\n",
    "labels = ['CatBoost', 'XGBoost', 'LGBM', 'Linear Reg']\n",
    "rmse_values = [CatBoost_rmse, XGBoost_rmse, LGBM_rmse, lineaReg_rmse]\n",
    "\n",
    "# Create a bar chart\n",
    "plt.bar(labels, rmse_values)\n",
    "\n",
    "# Add labels and title\n",
    "plt.xlabel('Models')\n",
    "plt.ylabel('RMSE')\n",
    "plt.title('RMSE values for Different Models')\n",
    "\n",
    "# Show the bar chart\n",
    "plt.show()\n"
   ]
  }
 ],
 "metadata": {
  "kernelspec": {
   "display_name": "Python 3 (ipykernel)",
   "language": "python",
   "name": "python3"
  },
  "language_info": {
   "codemirror_mode": {
    "name": "ipython",
    "version": 3
   },
   "file_extension": ".py",
   "mimetype": "text/x-python",
   "name": "python",
   "nbconvert_exporter": "python",
   "pygments_lexer": "ipython3",
   "version": "3.10.9"
  }
 },
 "nbformat": 4,
 "nbformat_minor": 5
}
